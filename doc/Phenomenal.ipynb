{
 "metadata": {
  "name": "",
  "signature": "sha256:bfb3d0668e1095436986ca85257ac95e0391e34a5daa837ebf4141ada68782e6"
 },
 "nbformat": 3,
 "nbformat_minor": 0,
 "worksheets": [
  {
   "cells": [
    {
     "cell_type": "heading",
     "level": 1,
     "metadata": {},
     "source": [
      "Phenomenal Package"
     ]
    },
    {
     "cell_type": "heading",
     "level": 2,
     "metadata": {},
     "source": [
      "Import"
     ]
    },
    {
     "cell_type": "code",
     "collapsed": false,
     "input": [
      "import alinea.phenomenal"
     ],
     "language": "python",
     "metadata": {},
     "outputs": [],
     "prompt_number": 5
    },
    {
     "cell_type": "heading",
     "level": 3,
     "metadata": {},
     "source": [
      "Load images :"
     ]
    },
    {
     "cell_type": "code",
     "collapsed": false,
     "input": [
      "import cv2\n",
      "import alinea.phenomenal.misc\n",
      "\n",
      "data_directory = u'C:\\\\cygwin64\\\\home\\\\artzetsi\\\\phenomenal\\\\local\\\\data_set_0962_A310_ARCH2013-05-13'\n",
      "pot_ids = alinea.phenomenal.misc.load_files(data_directory)\n",
      "\n",
      "print 'no'\n",
      "for pot_id in pot_ids:\n",
      "    for date in pot_ids[pot_id]:\n",
      "        file = pot_ids[pot_id][date]        \n",
      "        images = alinea.phenomenal.misc.load_images(files, cv2.IMREAD_UNCHANGED)\n",
      "        \n",
      "        print pot_id, date"
     ],
     "language": "python",
     "metadata": {},
     "outputs": [
      {
       "output_type": "stream",
       "stream": "stdout",
       "text": [
        "no\n"
       ]
      }
     ],
     "prompt_number": 17
    },
    {
     "cell_type": "code",
     "collapsed": false,
     "input": [
      "ls"
     ],
     "language": "python",
     "metadata": {},
     "outputs": [
      {
       "output_type": "stream",
       "stream": "stdout",
       "text": [
        " Le volume dans le lecteur C s'appelle Windows\n",
        " Le num\u201aro de s\u201arie du volume est 1043-446D\n",
        "\n",
        " R\u201apertoire de C:\\Users\\artzetsi\n",
        "\n",
        "06/10/2015  15:29    <REP>          .\n",
        "06/10/2015  15:29    <REP>          ..\n",
        "11/08/2015  16:11                 0 .bash_history\n",
        "28/09/2015  12:05    <REP>          .config\n",
        "21/07/2015  13:46    <REP>          .continuum\n",
        "11/08/2015  15:22    <REP>          .eclipse\n",
        "11/08/2015  10:32                60 .gitconfig\n",
        "04/08/2015  14:09    <REP>          .idlerc\n",
        "11/08/2015  15:42    <REP>          .imagej\n",
        "07/09/2015  10:57               619 .ImageJ_3D_Viewer.props\n",
        "06/10/2015  15:30    <REP>          .ipynb_checkpoints\n",
        "21/07/2015  12:22    <REP>          .ipython\n",
        "11/08/2015  15:40    <REP>          .m2\n",
        "06/10/2015  14:16    <REP>          .matplotlib\n",
        "21/07/2015  13:54    <REP>          .openalea\n",
        "11/08/2015  15:38    <REP>          .p2\n",
        "17/07/2015  10:20    <REP>          .PyCharm40\n",
        "22/07/2015  11:36    <REP>          .VirtualBox\n",
        "31/08/2015  18:20    <REP>          _openalea\n",
        "01/09/2015  13:55               780 _viminfo\n",
        "13/08/2015  10:23    <REP>          Contacts\n",
        "29/09/2015  15:41    <REP>          Desktop\n",
        "05/10/2015  12:41    <REP>          Documents\n",
        "06/10/2015  09:53    <REP>          Downloads\n",
        "13/08/2015  10:23    <REP>          Favorites\n",
        "04/09/2015  10:25    <REP>          fiji-win64\n",
        "04/09/2015  10:25       255\u00ff595\u00ff777 fiji-win64.zip\n",
        "24/08/2015  09:39    <REP>          Links\n",
        "01/09/2015  09:45        11\u00ff435\u00ff487 mayavi-4.4.3+vtk620-cp27-none-win32.whl\n",
        "02/10/2015  09:49    <REP>          Music\n",
        "24/09/2015  13:53    <REP>          Pictures\n",
        "13/08/2015  10:23    <REP>          Saved Games\n",
        "13/08/2015  10:23    <REP>          Searches\n",
        "06/10/2015  15:46             2\u00ff322 Untitled0.ipynb\n",
        "13/08/2015  10:23    <REP>          Videos\n",
        "01/09/2015  09:50        18\u00ff106\u00ff697 VTK-6.2.0-cp27-none-win32.whl\n",
        "11/08/2015  16:01    <REP>          workspace\n",
        "               8 fichier(s)      285\u00ff141\u00ff742 octets\n",
        "              29 R\u201ap(s)  226\u00ff570\u00ff018\u00ff816 octets libres\n"
       ]
      }
     ],
     "prompt_number": 18
    },
    {
     "cell_type": "code",
     "collapsed": false,
     "input": [],
     "language": "python",
     "metadata": {},
     "outputs": []
    }
   ],
   "metadata": {}
  }
 ]
}