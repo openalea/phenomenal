{
 "cells": [
  {
   "cell_type": "markdown",
   "metadata": {},
   "source": [
    "# Multi-view reconstruction and Meshing\n",
    "\n",
    "## 0. Import"
   ]
  },
  {
   "cell_type": "code",
   "execution_count": 27,
   "metadata": {},
   "outputs": [],
   "source": [
    "%matplotlib inline\n",
    "\n",
    "import cv2\n",
    "\n",
    "import openalea.phenomenal.data as phm_data\n",
    "import openalea.phenomenal.display as phm_display\n",
    "import openalea.phenomenal.object as phm_obj\n",
    "import openalea.phenomenal.multi_view_reconstruction as phm_mvr\n",
    "import openalea.phenomenal.mesh as phm_mesh\n",
    "import openalea.phenomenal.display.notebook as phm_display_notebook"
   ]
  },
  {
   "cell_type": "markdown",
   "metadata": {},
   "source": [
    "## 1. Prerequisites\n",
    "\n",
    "### 1.1 Load data"
   ]
  },
  {
   "cell_type": "code",
   "execution_count": 28,
   "metadata": {},
   "outputs": [
    {
     "data": {
      "image/png": "[encoded data removed]",
      "text/plain": [
       "<Figure size 640x480 with 14 Axes>"
      ]
     },
     "metadata": {},
     "output_type": "display_data"
    }
   ],
   "source": [
    "plant_number = 2 # Available : 1, 2, 3, 4 or 5\n",
    "bin_images = phm_data.bin_images(f\"data/plant_{plant_number}\")\n",
    "calibrations = phm_data.calibrations(f\"data/plant_{plant_number}\")\n",
    "\n",
    "phm_display.show_images(list(bin_images['side'].values()) +\n",
    "                        list(bin_images['top'].values()))"
   ]
  },
  {
   "cell_type": "markdown",
   "metadata": {},
   "source": [
    "## 2. Multi-view reconstruction\n",
    "\n",
    "### 2.1 Associate images and projection function"
   ]
  },
  {
   "cell_type": "code",
   "execution_count": 29,
   "metadata": {},
   "outputs": [],
   "source": [
    "def routine_select_ref_angle(bin_side_images):\n",
    "\n",
    "    max_len = 0\n",
    "    max_angle = None\n",
    "\n",
    "    for angle in bin_side_images:\n",
    "\n",
    "        x_pos, y_pos, x_len, y_len = cv2.boundingRect(cv2.findNonZero(bin_side_images[angle]))\n",
    "\n",
    "        if x_len > max_len:\n",
    "            max_len = x_len\n",
    "            max_angle = angle\n",
    "\n",
    "    return max_angle"
   ]
  },
  {
   "cell_type": "code",
   "execution_count": 30,
   "metadata": {},
   "outputs": [],
   "source": [
    "refs_angle_list = [routine_select_ref_angle(bin_images[\"side\"])]\n",
    "\n",
    "image_views = list()\n",
    "for id_camera in bin_images:\n",
    "    for angle in bin_images[id_camera]:\n",
    "        projection = calibrations[id_camera].get_projection(angle)\n",
    "\n",
    "        image_ref = None\n",
    "        if id_camera == \"side\" and angle in refs_angle_list:\n",
    "            image_ref = bin_images[id_camera][angle]\n",
    "\n",
    "        inclusive = False\n",
    "        if id_camera == \"top\":\n",
    "            inclusive = True\n",
    "\n",
    "        image_views.append(phm_obj.ImageView(\n",
    "            bin_images[id_camera][angle],\n",
    "            projection,\n",
    "            inclusive=inclusive,\n",
    "            image_ref=image_ref))"
   ]
  },
  {
   "cell_type": "markdown",
   "metadata": {},
   "source": [
    "### 2.2 Do multi-view reconstruction"
   ]
  },
  {
   "cell_type": "code",
   "execution_count": 31,
   "metadata": {},
   "outputs": [],
   "source": [
    "voxels_size = 16 # mm\n",
    "error_tolerance = 0\n",
    "voxel_grid = phm_mvr.reconstruction_3d(image_views,\n",
    "                                       voxels_size=voxels_size,\n",
    "                                       error_tolerance=error_tolerance)"
   ]
  },
  {
   "cell_type": "markdown",
   "metadata": {},
   "source": [
    "### 2.4 Save / Load voxel grid"
   ]
  },
  {
   "cell_type": "code",
   "execution_count": 32,
   "metadata": {},
   "outputs": [],
   "source": [
    "voxel_grid.write(\"plant_{}_size_{}.npz\".format(plant_number, voxels_size))"
   ]
  },
  {
   "cell_type": "code",
   "execution_count": 33,
   "metadata": {},
   "outputs": [],
   "source": [
    "voxel_grid = phm_obj.VoxelGrid.read(\"plant_{}_size_{}.npz\".format(plant_number, voxels_size))"
   ]
  },
  {
   "cell_type": "markdown",
   "metadata": {},
   "source": [
    "### 2.5 Viewing"
   ]
  },
  {
   "cell_type": "code",
   "execution_count": 34,
   "metadata": {},
   "outputs": [
    {
     "data": {
      "application/vnd.jupyter.widget-view+json": {
       "model_id": "22a3cd278f0042fa96a5e0cc443c4240",
       "version_major": 2,
       "version_minor": 0
      },
      "text/plain": [
       "Container(figure=Figure(box_center=[0.5, 0.5, 0.5], box_size=[1.0, 1.0, 1.0], camera=PerspectiveCamera(fov=45.…"
      ]
     },
     "metadata": {},
     "output_type": "display_data"
    }
   ],
   "source": [
    "phm_display_notebook.show_voxel_grid(voxel_grid, size=1)"
   ]
  },
  {
   "cell_type": "markdown",
   "metadata": {},
   "source": [
    "## 3.Meshing"
   ]
  },
  {
   "cell_type": "code",
   "execution_count": 35,
   "metadata": {},
   "outputs": [
    {
     "name": "stdout",
     "output_type": "stream",
     "text": [
      "================================================================================\n",
      "Marching cubes : \n",
      "\tIso value :0.5\n",
      "\n",
      "\tThere are 1956 points.\n",
      "\tThere are 3860 polygons.\n",
      "================================================================================\n",
      "================================================================================\n",
      "Smoothing : \n",
      "\tFeature angle :120.0\n",
      "\tNumber of iteration :5\n",
      "\tPass band : 0.01\n",
      "\n",
      "================================================================================\n",
      "================================================================================\n",
      "Decimation : \n",
      "\tReduction (percentage) :0.9\n",
      "\n",
      "\tBefore decimation\n",
      "\t-----------------\n",
      "\tThere are 1956 points.\n",
      "\tThere are 3860 polygons.\n",
      "\n",
      "\tAfter decimation\n",
      "\t-----------------\n",
      "\tThere are 0.9 points.\n",
      "\tThere are 1956 polygons.\n",
      "================================================================================\n",
      "Number of vertices : 201\n",
      "Number of faces : 386\n"
     ]
    }
   ],
   "source": [
    "vertices, faces = phm_mesh.meshing(voxel_grid.to_image_3d(),\n",
    "                                   reduction=0.90,\n",
    "                                   smoothing_iteration=5,\n",
    "                                   verbose=True)\n",
    "\n",
    "print(\"Number of vertices : {nb_vertices}\".format(nb_vertices=len(vertices)))\n",
    "print(\"Number of faces : {nb_faces}\".format(nb_faces=len(faces)))"
   ]
  },
  {
   "cell_type": "markdown",
   "metadata": {},
   "source": [
    "### Viewing"
   ]
  },
  {
   "cell_type": "code",
   "execution_count": 36,
   "metadata": {},
   "outputs": [
    {
     "data": {
      "application/vnd.jupyter.widget-view+json": {
       "model_id": "d6407f8e337446578b367947d0c7dd8e",
       "version_major": 2,
       "version_minor": 0
      },
      "text/plain": [
       "Container(figure=Figure(box_center=[0.5, 0.5, 0.5], box_size=[1.0, 1.0, 1.0], camera=PerspectiveCamera(fov=45.…"
      ]
     },
     "metadata": {},
     "output_type": "display_data"
    }
   ],
   "source": [
    "phm_display_notebook.show_mesh(vertices, faces)"
   ]
  },
  {
   "cell_type": "code",
   "execution_count": null,
   "metadata": {},
   "outputs": [],
   "source": []
  }
 ],
 "metadata": {
  "anaconda-cloud": {},
  "kernelspec": {
   "display_name": "Python 3 (ipykernel)",
   "language": "python",
   "name": "python3"
  },
  "language_info": {
   "codemirror_mode": {
    "name": "ipython",
    "version": 3
   },
   "file_extension": ".py",
   "mimetype": "text/x-python",
   "name": "python",
   "nbconvert_exporter": "python",
   "pygments_lexer": "ipython3",
   "version": "3.9.18"
  }
 },
 "nbformat": 4,
 "nbformat_minor": 4
}
