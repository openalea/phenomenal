{
 "cells": [
  {
   "cell_type": "markdown",
   "id": "6d59f26c",
   "metadata": {},
   "source": [
    "# Leaf tracking, in a time-series of 3D segmented maize plants\n",
    "\n",
    "Corresponding article in Plant Methods (Daviet et al. 2022) : https://doi.org/10.1186/s13007-022-00961-4)\n",
    "\n",
    "3D segmentations were obtained with Phenomenal (https://github.com/openalea/phenomenal)\n",
    "\n",
    "In this notebook, 3D visualisations are made with matplotlib. Other tools could be used for more advanced visualisations such as openalea.plantgl (https://github.com/openalea/plantgl)"
   ]
  },
  {
   "cell_type": "code",
   "execution_count": null,
   "id": "4baec327",
   "metadata": {},
   "outputs": [],
   "source": [
    "import os\n",
    "import pandas as pd\n",
    "import numpy as np\n",
    "\n",
    "%matplotlib inline\n",
    "import matplotlib.pyplot as plt\n",
    "\n",
    "import openalea.phenomenal.object.voxelSegmentation as phm_seg\n",
    "\n",
    "from openalea.phenomenal.tracking.trackedPlant import TrackedPlant\n",
    "from openalea.phenomenal.tracking.display import PALETTE\n",
    "from openalea.phenomenal.tracking.phenomenal_coupling import phm_to_phenotrack_input\n",
    "from openalea.phenomenal.tracking.polyline_utils import polyline_length\n",
    "\n",
    "datadir = \"./data\""
   ]
  },
  {
   "cell_type": "code",
   "execution_count": null,
   "id": "675e5ee1",
   "metadata": {},
   "outputs": [],
   "source": [
    "def plot3d(polylines, ranks):\n",
    "    fig = plt.figure(figsize=(9, 7))\n",
    "    ax = fig.add_subplot(111, projection=\"3d\")\n",
    "    plt.axis(\"off\")\n",
    "    for pl, rank in zip(polylines, ranks):\n",
    "        color = (\n",
    "            PALETTE[int(rank - 1)] / 255.0\n",
    "            if rank > 0\n",
    "            else np.array([80, 80, 80]) / 255.0\n",
    "        )\n",
    "        linestyle = \"-\" if rank > 0 else \"--\"\n",
    "        ax.plot(\n",
    "            pl[:, 0],\n",
    "            pl[:, 1],\n",
    "            zs=pl[:, 2],\n",
    "            color=color,\n",
    "            linewidth=0.7,\n",
    "            linestyle=linestyle,\n",
    "        )"
   ]
  },
  {
   "cell_type": "markdown",
   "id": "9fb12ddc",
   "metadata": {},
   "source": [
    "## 1 - Data Preparation"
   ]
  },
  {
   "cell_type": "markdown",
   "id": "d0e38a85",
   "metadata": {},
   "source": [
    "### Load a time-series of segmented plant (from Phenomenal)"
   ]
  },
  {
   "cell_type": "code",
   "execution_count": null,
   "id": "0d1f5030",
   "metadata": {},
   "outputs": [],
   "source": [
    "fd = datadir + \"/3d_time_series\"\n",
    "phm_segs, timestamps = [], []\n",
    "for filename in sorted(os.listdir(fd)):\n",
    "    timestamps.append(int(filename.split(\".gz\")[0]))\n",
    "    phm_segs.append(\n",
    "        phm_seg.VoxelSegmentation.read_from_json_gz(os.path.join(fd, filename))\n",
    "    )"
   ]
  },
  {
   "cell_type": "markdown",
   "id": "45ecff7f",
   "metadata": {},
   "source": [
    "### Remove time-steps with an abnormal stem shape, and conversion to a generic format"
   ]
  },
  {
   "cell_type": "code",
   "execution_count": null,
   "id": "a389c1c2",
   "metadata": {},
   "outputs": [],
   "source": [
    "phenotrack_segs, checks_stem = phm_to_phenotrack_input(phm_segs, timestamps)\n",
    "\n",
    "print(\n",
    "    f\"{len(phm_segs) - len(phenotrack_segs)} time-step was removed due to an abnormal stem shape\"\n",
    ")"
   ]
  },
  {
   "cell_type": "markdown",
   "id": "119e699e",
   "metadata": {},
   "source": [
    "### Display all time-steps in a same window\n",
    "+ Each segmented leaf is represented by a 3D polyline (grey dotted line = unknown leaf rank)"
   ]
  },
  {
   "cell_type": "code",
   "execution_count": null,
   "id": "aa948e6e",
   "metadata": {},
   "outputs": [],
   "source": [
    "polylines = [pl for seg in phenotrack_segs for pl in seg[\"polylines_sequence\"]]\n",
    "plot3d(polylines, [-1] * len(polylines))"
   ]
  },
  {
   "cell_type": "markdown",
   "id": "9b3c82da",
   "metadata": {},
   "source": [
    "### Initialize the TrackedPlant object"
   ]
  },
  {
   "cell_type": "code",
   "execution_count": null,
   "id": "5cc587d7",
   "metadata": {},
   "outputs": [],
   "source": [
    "trackedplant = TrackedPlant.load(phenotrack_segs)"
   ]
  },
  {
   "cell_type": "markdown",
   "id": "3705ed7b",
   "metadata": {},
   "source": [
    "## 2 - Tracking of mature leaves"
   ]
  },
  {
   "cell_type": "markdown",
   "id": "8ce166aa",
   "metadata": {},
   "source": [
    "### Display the initial topological ordering\n",
    "+ At each time step, mature leaves are ordered in a sequence, by increasing insertion height (i.e. using topology). This gives a first estimation of leaf ranks, ordered from the bottom to the top of the stem.\n",
    "+ The 3D plot below illustrates these leaf ranks (red = 1, green = 2, dark blue = 3, ...). It can be seen that this approach is not consistent over time. This is because some leaves are disappearinig at the bottom of the plant over time, which shifts the measured ranks of the remaining leaves. The goal of mature leaves tracking is to fix this."
   ]
  },
  {
   "cell_type": "code",
   "execution_count": null,
   "id": "911a2067",
   "metadata": {},
   "outputs": [],
   "source": [
    "raw_ranks = [\n",
    "    r + 1\n",
    "    for s in trackedplant.snapshots\n",
    "    for r, l in enumerate(s.leaves)\n",
    "    if l.features[\"mature\"]\n",
    "]\n",
    "polylines = [\n",
    "    l.polyline for s in trackedplant.snapshots for l in s.leaves if l.features[\"mature\"]\n",
    "]\n",
    "plot3d(polylines, raw_ranks)"
   ]
  },
  {
   "cell_type": "markdown",
   "id": "c95fbd52",
   "metadata": {},
   "source": [
    "### Sequence alignment of mature leaves\n",
    "+ Use sequence alignment to match mature leaves that have similar morphology features in different time-steps."
   ]
  },
  {
   "cell_type": "code",
   "execution_count": null,
   "id": "ad49d747",
   "metadata": {},
   "outputs": [],
   "source": [
    "# tracking with the parameters from the original publication\n",
    "trackedplant.mature_leaf_tracking(\n",
    "    start=0,  # which time step is used to initialize tracking\n",
    "    gap=12,  # gap penalty parameter\n",
    "    w_h=0.03,  # importance weight for leaf height feature\n",
    "    w_l=0.004,  # importance weight for leaf length feature\n",
    "    gap_extremity_factor=0.2,  # weight applied to the gap penalty on sequence extremities\n",
    "    align_range=None,  # maximum distance between two time-steps so that thet can be compared (inf if None)\n",
    ")"
   ]
  },
  {
   "cell_type": "markdown",
   "id": "0ebd36b4",
   "metadata": {},
   "source": [
    "### Display the new leaf ranks"
   ]
  },
  {
   "cell_type": "code",
   "execution_count": null,
   "id": "800b0491",
   "metadata": {},
   "outputs": [],
   "source": [
    "ranks = [\n",
    "    r\n",
    "    for s in trackedplant.snapshots\n",
    "    for l, r in zip(s.leaves, s.leaf_ranks())\n",
    "    if l.features[\"mature\"]\n",
    "]\n",
    "polylines = [\n",
    "    l.polyline for s in trackedplant.snapshots for l in s.leaves if l.features[\"mature\"]\n",
    "]\n",
    "plot3d(polylines, ranks)"
   ]
  },
  {
   "cell_type": "markdown",
   "id": "076160a9",
   "metadata": {},
   "source": [
    "### Note: Sequence alignment is sensible to the parameters used\n",
    "+ It might be important to finetune the parameters for new experiments. \n",
    "+ an example of another set of parameters that might work well : trackedplant.mature_leaf_tracking(start=20, gap=2.5, w_h=0.03, w_l=0.004, gap_extremity_factor=0.8, align_range=None)"
   ]
  },
  {
   "cell_type": "markdown",
   "id": "14cf30ac",
   "metadata": {},
   "source": [
    "## 3 - Tracking of growing leaves"
   ]
  },
  {
   "cell_type": "markdown",
   "id": "4fc4a786",
   "metadata": {},
   "source": [
    "### Run tracking"
   ]
  },
  {
   "cell_type": "code",
   "execution_count": null,
   "id": "8eba9316",
   "metadata": {},
   "outputs": [],
   "source": [
    "trackedplant.growing_leaf_tracking()"
   ]
  },
  {
   "cell_type": "markdown",
   "id": "8bdba014",
   "metadata": {},
   "source": [
    "### Display it\n",
    "+ The output of growing leaf tracking is more difficult to visualise all at once.\n",
    "+ Also, dealing with growing leaves is more difficult in general; there are more errors than for mature leaf tracking"
   ]
  },
  {
   "cell_type": "code",
   "execution_count": null,
   "id": "d704ce83",
   "metadata": {},
   "outputs": [],
   "source": [
    "ranks = [r for s in trackedplant.snapshots for l, r in zip(s.leaves, s.leaf_ranks())]\n",
    "polylines = [l.polyline for s in trackedplant.snapshots for l in s.leaves]\n",
    "plot3d(polylines, ranks)"
   ]
  },
  {
   "cell_type": "markdown",
   "id": "198c5d02",
   "metadata": {},
   "source": [
    "## 4. Extracting traits (with the example of leaf lengths)"
   ]
  },
  {
   "cell_type": "markdown",
   "id": "3ac524a2",
   "metadata": {},
   "source": [
    "### Create a dataframe with the rank and length of each leaf"
   ]
  },
  {
   "cell_type": "code",
   "execution_count": null,
   "id": "5e925de8",
   "metadata": {},
   "outputs": [],
   "source": [
    "df = []\n",
    "for snapshot, time in zip(trackedplant.snapshots, np.array(timestamps)[checks_stem]):\n",
    "    for rank, leaf in zip(snapshot.leaf_ranks(), snapshot.leaves):\n",
    "        length = polyline_length(leaf.polyline)\n",
    "        df.append([time, rank, length, leaf.features[\"mature\"]])\n",
    "df = pd.DataFrame(df, columns=[\"time\", \"rank\", \"length\", \"mature\"])\n",
    "df[\"time\"] = (df[\"time\"] - np.min(df[\"time\"])) / 3600 / 24"
   ]
  },
  {
   "cell_type": "markdown",
   "id": "00df2ea8",
   "metadata": {},
   "source": [
    "### Display the leaf length function of rank\n",
    "+ Only mature leaf tracking is necessary here !"
   ]
  },
  {
   "cell_type": "code",
   "execution_count": null,
   "id": "f32c3aed",
   "metadata": {},
   "outputs": [],
   "source": [
    "t_max = (\n",
    "    20  # time after leaf emergence when a mature leaf is not considered anymore (days)\n",
    ")\n",
    "\n",
    "ranks = sorted([r for r in df[\"rank\"].unique() if r > 0])\n",
    "lengths = []\n",
    "for rank in ranks:\n",
    "    s = df[(df[\"rank\"] == rank) & (df[\"mature\"])]\n",
    "    s = s[s[\"time\"] < np.min(s[\"time\"]) + t_max]\n",
    "    lengths.append(np.median(s[\"length\"]))\n",
    "\n",
    "plt.figure()\n",
    "plt.plot(ranks, lengths, \"k-o\")\n",
    "plt.xlabel(\"Leaf rank\")\n",
    "plt.ylabel(\"Mature leaf length (mm)\")"
   ]
  },
  {
   "cell_type": "markdown",
   "id": "96ad09f8",
   "metadata": {},
   "source": [
    "### Display the growth dynamics of one leaf over time\n",
    "+ Here, growing leaf tracking is necessary. Results are generally more noisy, since growing leaf tracking makes more errors, and only one length measure is available at each time step (whereas for the previous trait, it was possible to average several measures for each leaf rank)."
   ]
  },
  {
   "cell_type": "code",
   "execution_count": null,
   "id": "e0c650e5",
   "metadata": {},
   "outputs": [],
   "source": [
    "rank = 8\n",
    "\n",
    "s = df[(df[\"rank\"] == rank) & (~df[\"mature\"])].sort_values(\"time\")\n",
    "\n",
    "plt.figure()\n",
    "plt.title(\"Leaf 8 growth\")\n",
    "plt.xlabel(\"Time (days)\")\n",
    "plt.ylabel(\"length (mm)\")\n",
    "plt.plot(s[\"time\"], s[\"length\"], \"k-o\")"
   ]
  }
 ],
 "metadata": {
  "kernelspec": {
   "display_name": "Python 3 (ipykernel)",
   "language": "python",
   "name": "python3"
  },
  "language_info": {
   "codemirror_mode": {
    "name": "ipython",
    "version": 3
   },
   "file_extension": ".py",
   "mimetype": "text/x-python",
   "name": "python",
   "nbconvert_exporter": "python",
   "pygments_lexer": "ipython3",
   "version": "3.12.7"
  },
  "widgets": {
   "application/vnd.jupyter.widget-state+json": {
    "state": {},
    "version_major": 2,
    "version_minor": 0
   }
  }
 },
 "nbformat": 4,
 "nbformat_minor": 5
}
