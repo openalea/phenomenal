{
 "cells": [
  {
   "cell_type": "markdown",
   "metadata": {},
   "source": [
    "# Synthetic Validation\n",
    "\n",
    "## Import Statement :"
   ]
  },
  {
   "cell_type": "code",
   "execution_count": 1,
   "metadata": {},
   "outputs": [],
   "source": [
    "%matplotlib inline\n",
    "\n",
    "import matplotlib.pyplot as plt\n",
    "import cv2, collections, numpy, math, pandas, scipy.integrate\n",
    "\n",
    "import openalea.phenomenal.data as phm_data \n",
    "import openalea.phenomenal.object as phm_obj\n",
    "import openalea.phenomenal.multi_view_reconstruction as phm_mvr\n",
    "import openalea.phenomenal.mesh as phm_mesh\n",
    "import openalea.phenomenal.display as phm_display\n",
    "import openalea.phenomenal.display.notebook as phm_display_notebook\n",
    "import openalea.phenomenal.segmentation as phm_seg"
   ]
  },
  {
   "cell_type": "markdown",
   "metadata": {},
   "source": [
    "## 1. Import synthetic data\n",
    "\n",
    "### 1.1 Select plant_number"
   ]
  },
  {
   "cell_type": "code",
   "execution_count": 2,
   "metadata": {},
   "outputs": [],
   "source": [
    "vertices, faces, meta_data = phm_data.synthetic_plant(\"data/synthetic_plant_1\")"
   ]
  },
  {
   "cell_type": "markdown",
   "metadata": {},
   "source": [
    "### 1.2 Viewing"
   ]
  },
  {
   "cell_type": "code",
   "execution_count": 3,
   "metadata": {},
   "outputs": [
    {
     "data": {
      "application/vnd.jupyter.widget-view+json": {
       "model_id": "977b693b110e4ecf969137d192460f2b",
       "version_major": 2,
       "version_minor": 0
      },
      "text/plain": [
       "VBox(children=(Figure(anglex=1.5707963267948966, camera_center=[0.0, 0.0, 0.0], height=500, matrix_projection=…"
      ]
     },
     "metadata": {},
     "output_type": "display_data"
    }
   ],
   "source": [
    "phm_display_notebook.show_syntehtic_plant(vertices, faces, meta_data=None)"
   ]
  },
  {
   "cell_type": "markdown",
   "metadata": {},
   "source": [
    "## 2. Phenomenal Measurements\n",
    "\n",
    "### 2.1 Projection & binairies images"
   ]
  },
  {
   "cell_type": "code",
   "execution_count": 5,
   "metadata": {},
   "outputs": [],
   "source": [
    "image_shape = (2448, 2048)\n",
    "angles = range(0, 360, 30)\n",
    "calibrations = phm_data.calibrations(\"data/plant_1\")\n",
    "\n",
    "selected = [(\"side\", angle, (2448, 2048)) for angle in range(0, 360, 30)]\n",
    "selected.append((\"top\", 0, (2048, 2448)))\n",
    "\n",
    "\n",
    "bin_images = collections.defaultdict(dict)\n",
    "for id_camera, angle, image_shape in selected:\n",
    "    projection = calibrations[id_camera].get_projection(angle)\n",
    "    image = phm_mesh.project_mesh_on_image(vertices, faces, image_shape, projection)\n",
    "    bin_images[id_camera][angle] = image"
   ]
  },
  {
   "cell_type": "code",
   "execution_count": 6,
   "metadata": {},
   "outputs": [
    {
     "data": {
      "image/png": "[encoded data removed]",
      "text/plain": [
       "<Figure size 432x288 with 13 Axes>"
      ]
     },
     "metadata": {
      "needs_background": "light"
     },
     "output_type": "display_data"
    }
   ],
   "source": [
    "# Display it\n",
    "phm_display.show_images(\n",
    "    list(bin_images['side'].values()) + \n",
    "    list(bin_images['top'].values()))"
   ]
  },
  {
   "cell_type": "markdown",
   "metadata": {},
   "source": [
    "### 2.2 Multi-view reconstruction\n",
    "\n",
    "#### 2.2.1 Associate images and projection function"
   ]
  },
  {
   "cell_type": "code",
   "execution_count": 7,
   "metadata": {},
   "outputs": [],
   "source": [
    "def routine_select_ref_angle(bin_side_images):\n",
    "\n",
    "    max_len = 0\n",
    "    max_angle = None\n",
    "    \n",
    "    for angle in bin_side_images:\n",
    "    \n",
    "        x_pos, y_pos, x_len, y_len = cv2.boundingRect(cv2.findNonZero(bin_side_images[angle]))\n",
    "\n",
    "        if x_len > max_len:\n",
    "            max_len = x_len\n",
    "            max_angle = angle\n",
    "\n",
    "    return max_angle"
   ]
  },
  {
   "cell_type": "code",
   "execution_count": 8,
   "metadata": {},
   "outputs": [],
   "source": [
    "refs_angle_list = [routine_select_ref_angle(bin_images[\"side\"])]\n",
    "\n",
    "image_views = list()\n",
    "for id_camera in bin_images:\n",
    "    for angle in bin_images[id_camera]:\n",
    "        projection = calibrations[id_camera].get_projection(angle)\n",
    "    \n",
    "        image_ref = None\n",
    "        if id_camera == \"side\" and angle in refs_angle_list:\n",
    "            image_ref = bin_images[id_camera][angle]\n",
    "        \n",
    "        inclusive = False\n",
    "        if id_camera == \"top\":\n",
    "            inclusive = True\n",
    "            \n",
    "        image_views.append(phm_obj.ImageView(\n",
    "            bin_images[id_camera][angle], \n",
    "            projection, \n",
    "            inclusive=inclusive, \n",
    "            image_ref=image_ref))"
   ]
  },
  {
   "cell_type": "markdown",
   "metadata": {},
   "source": [
    "#### 2.2.2 Do the mul-view reconstruction"
   ]
  },
  {
   "cell_type": "code",
   "execution_count": 9,
   "metadata": {},
   "outputs": [
    {
     "name": "stdout",
     "output_type": "stream",
     "text": [
      "2048.0\n",
      "1024.0\n",
      "512.0\n",
      "256.0\n",
      "128.0\n",
      "64.0\n",
      "32.0\n",
      "16.0\n",
      "8.0\n",
      "4.0\n"
     ]
    }
   ],
   "source": [
    "error_tolerance = 1\n",
    "voxels_size = 4\n",
    "\n",
    "voxel_grid = phm_mvr.reconstruction_3d(image_views,\n",
    "                               voxels_size=voxels_size,\n",
    "                               error_tolerance=error_tolerance)"
   ]
  },
  {
   "cell_type": "code",
   "execution_count": 10,
   "metadata": {},
   "outputs": [
    {
     "data": {
      "application/vnd.jupyter.widget-view+json": {
       "model_id": "d12269370be743de87e233150d978901",
       "version_major": 2,
       "version_minor": 0
      },
      "text/plain": [
       "VBox(children=(Figure(anglex=1.5707963267948966, camera_center=[0.0, 0.0, 0.0], height=500, matrix_projection=…"
      ]
     },
     "metadata": {},
     "output_type": "display_data"
    }
   ],
   "source": [
    "# Display it\n",
    "phm_display_notebook.show_voxel_grid(voxel_grid, size=1)"
   ]
  },
  {
   "cell_type": "markdown",
   "metadata": {},
   "source": [
    "### 2.3 Skeletonization"
   ]
  },
  {
   "cell_type": "code",
   "execution_count": 11,
   "metadata": {},
   "outputs": [],
   "source": [
    "graph = phm_seg.graph_from_voxel_grid(voxel_grid, connect_all_point=True)\n",
    "voxel_skeleton = phm_seg.skeletonize(voxel_grid, graph)\n",
    "\n",
    "# Select images\n",
    "image_projection = list()\n",
    "for angle in bin_images[\"side\"]:\n",
    "    projection = calibrations[\"side\"].get_projection(angle)\n",
    "    image_projection.append((bin_images[\"side\"][angle], projection))\n",
    "\n",
    "voxel_skeleton_denoised = phm_seg.segment_reduction(\n",
    "    voxel_skeleton, image_projection, required_visible=4, nb_min_pixel=100)"
   ]
  },
  {
   "cell_type": "code",
   "execution_count": 12,
   "metadata": {},
   "outputs": [
    {
     "data": {
      "application/vnd.jupyter.widget-view+json": {
       "model_id": "72936bec598b4aacb34bc9a5829fc1d6",
       "version_major": 2,
       "version_minor": 0
      },
      "text/plain": [
       "VBox(children=(Figure(anglex=1.5707963267948966, camera_center=[0.0, 0.0, 0.0], height=500, matrix_projection=…"
      ]
     },
     "metadata": {},
     "output_type": "display_data"
    }
   ],
   "source": [
    "# Display it\n",
    "phm_display_notebook.show_skeleton(voxel_skeleton_denoised, with_voxel=True, size=1.2)"
   ]
  },
  {
   "cell_type": "markdown",
   "metadata": {},
   "source": [
    "### 2.4 Cereals Segmentation"
   ]
  },
  {
   "cell_type": "code",
   "execution_count": 13,
   "metadata": {},
   "outputs": [],
   "source": [
    "vms = phm_seg.maize_segmentation(voxel_skeleton_denoised, graph)\n",
    "vmsi = phm_seg.maize_analysis(vms)"
   ]
  },
  {
   "cell_type": "code",
   "execution_count": 14,
   "metadata": {},
   "outputs": [],
   "source": [
    "# Phenomenal measurements of each organs\n",
    "pm_rows = [vo.info for vo in vmsi.voxel_organs]"
   ]
  },
  {
   "cell_type": "code",
   "execution_count": 15,
   "metadata": {
    "scrolled": false
   },
   "outputs": [
    {
     "data": {
      "application/vnd.jupyter.widget-view+json": {
       "model_id": "1e93871e11224b2fba294070d94e74ce",
       "version_major": 2,
       "version_minor": 0
      },
      "text/plain": [
       "VBox(children=(Figure(anglex=1.5707963267948966, camera_center=[0.0, 0.0, 0.0], height=500, matrix_projection=…"
      ]
     },
     "metadata": {},
     "output_type": "display_data"
    }
   ],
   "source": [
    "# Display it\n",
    "phm_display_notebook.show_segmentation(vmsi, size=1.2)"
   ]
  },
  {
   "cell_type": "markdown",
   "metadata": {},
   "source": [
    "## 3. Synthetic measurement\n",
    "\n",
    "### 3.1 Diplay leaf meta-data"
   ]
  },
  {
   "cell_type": "code",
   "execution_count": 16,
   "metadata": {},
   "outputs": [
    {
     "data": {
      "application/vnd.jupyter.widget-view+json": {
       "model_id": "50b6dd572d1f44baa480740c0581f34e",
       "version_major": 2,
       "version_minor": 0
      },
      "text/plain": [
       "VBox(children=(Figure(anglex=1.5707963267948966, camera_center=[0.0, 0.0, 0.0], height=500, matrix_projection=…"
      ]
     },
     "metadata": {},
     "output_type": "display_data"
    }
   ],
   "source": [
    "phm_display_notebook.show_syntehtic_plant(vertices, faces, meta_data=meta_data)"
   ]
  },
  {
   "cell_type": "markdown",
   "metadata": {},
   "source": [
    "### 3.2 Extract measurements from meta-data"
   ]
  },
  {
   "cell_type": "code",
   "execution_count": 17,
   "metadata": {},
   "outputs": [],
   "source": [
    "def remove_duplicate(poly, width):\n",
    "    index, d = list(), dict()\n",
    "    for i, item in enumerate(map(tuple, list(poly))):\n",
    "        if item not in d:\n",
    "            index.append(i)\n",
    "            d[item] =  True\n",
    "    return poly[index], width[index]"
   ]
  },
  {
   "cell_type": "code",
   "execution_count": 18,
   "metadata": {},
   "outputs": [],
   "source": [
    "sm_rows = list()\n",
    "x, y, z, r = zip(*meta_data['stem'])\n",
    "polyline = numpy.array(list(zip(x, y, z))) * 10 - numpy.array([0, 0, 750])\n",
    "r = numpy.array(r) * 10\n",
    "polyline, r = remove_duplicate(polyline, r)\n",
    "\n",
    "row = dict()\n",
    "row['sm_label'] = \"stem\"\n",
    "row['sm_max_width'] = max(r)\n",
    "row['sm_average_width'] = numpy.mean(r)\n",
    "\n",
    "row['sm_surface'] = scipy.integrate.simps(\n",
    "        r, phm_seg.compute_curvilinear_abscissa(polyline, 1))\n",
    "row['sm_length'] = phm_seg.compute_length_organ(polyline)\n",
    "angle, stem_vector_mean = phm_seg.compute_azimuth_angle(polyline)\n",
    "sm_rows.append(row)\n",
    "\n",
    "ranks = meta_data['leaf_order']\n",
    "polylines = {n: map(numpy.array, list(zip(*meta_data['leaf_polylines'][i])))\n",
    "             for i, n in enumerate(ranks)}\n",
    "\n",
    "for leaf_order in polylines:\n",
    "    x, y, z, r = polylines[leaf_order]\n",
    "    polyline = numpy.array(list(zip(x, y, z))) * 10 - numpy.array([0, 0, 750])\n",
    "    r = numpy.array(r) * 10\n",
    "    polyline, r = remove_duplicate(polyline, r)\n",
    "    \n",
    "    row = dict()\n",
    "    row['sm_leaf_number'] = leaf_order\n",
    "    row['sm_label'] = \"leaf\"\n",
    "    row['sm_position_tip'] = tuple(polyline[-1])\n",
    "    row['sm_position_base'] = tuple(polyline[0])\n",
    "    row['sm_max_width'] = max(r)\n",
    "    row['sm_average_width'] = numpy.mean(r)\n",
    "    \n",
    "    row['sm_surface'] = scipy.integrate.simps(\n",
    "        r, phm_seg.compute_curvilinear_abscissa(polyline, 1))\n",
    "    \n",
    "    row['sm_length'] = phm_seg.compute_length_organ(polyline)\n",
    "    angle, vector_mean = phm_seg.compute_azimuth_angle(polyline)\n",
    "    row['sm_azimuth_angle'] = angle\n",
    "    insertion_angle, vector = phm_seg.compute_insertion_angle(polyline, stem_vector_mean)\n",
    "    row['sm_insertion_angle_vector'] = vector\n",
    "    row['sm_insertion_angle'] = insertion_angle\n",
    "    row['sm_inclination_angle'] = phm_seg.compute_inclination_angle(polyline)\n",
    "    row['sm_full_length'] = row['sm_length'] + polyline[0][2] + 750\n",
    "\n",
    "    sm_rows.append(row)"
   ]
  },
  {
   "cell_type": "markdown",
   "metadata": {},
   "source": [
    "## 4. Measures registration\n",
    "\n",
    "Merge synthetic and phenomenal row measure together"
   ]
  },
  {
   "cell_type": "code",
   "execution_count": 19,
   "metadata": {},
   "outputs": [],
   "source": [
    "def registration_leafs(pm_rows, sm_rows):\n",
    "\n",
    "    def cannot_registred(pm_row, sm_row):\n",
    "        for label in [\"stem\", \"plant\", \"unknown\"]:\n",
    "            if pm_row[\"pm_label\"] == label or sm_row[\"sm_label\"] == label:\n",
    "                return True\n",
    "        if math.isnan(pm_row[\"pm_length\"]):\n",
    "            return True\n",
    "        return False\n",
    "\n",
    "    def same_label(pm_row, sm_row):\n",
    "        for label in [\"stem\", \"plant\"]:\n",
    "            if pm_row[\"pm_label\"] == label and sm_row[\"sm_label\"] == label:\n",
    "                return True\n",
    "        return False\n",
    "\n",
    "    rows_distance = list()\n",
    "    registered_row = list()\n",
    "    for pm_row in pm_rows:\n",
    "        for sm_row in sm_rows:\n",
    "\n",
    "            if same_label(pm_row, sm_row):\n",
    "                registered_row.append((pm_row, sm_row, 0))\n",
    "                continue\n",
    "            if cannot_registred(pm_row, sm_row):\n",
    "                continue\n",
    "\n",
    "            pos1 = numpy.array(pm_row[\"pm_position_tip\"])\n",
    "            pos2 = numpy.array(sm_row[\"sm_position_tip\"])\n",
    "            distance = numpy.linalg.norm(pos2 - pos1)\n",
    "\n",
    "            rows_distance.append((pm_row, sm_row, distance))\n",
    "\n",
    "    while rows_distance:\n",
    "        (pm_row, sm_row, d) = min(rows_distance, key=lambda t: t[2])\n",
    "        registered_row.append((pm_row, sm_row, d))\n",
    "        rows_distance = [v for v in rows_distance\n",
    "                         if pm_row not in v and sm_row not in v]\n",
    "    return registered_row"
   ]
  },
  {
   "cell_type": "code",
   "execution_count": 20,
   "metadata": {},
   "outputs": [],
   "source": [
    "registred_rows = list()\n",
    "for pm_row, sm_row, d in registration_leafs(pm_rows, sm_rows):\n",
    "    sm_row.update(pm_row)\n",
    "    sm_row[\"distance_registration\"] = d\n",
    "    registred_rows.append(sm_row)"
   ]
  },
  {
   "cell_type": "markdown",
   "metadata": {},
   "source": [
    "### 4.2 Display result"
   ]
  },
  {
   "cell_type": "code",
   "execution_count": 21,
   "metadata": {},
   "outputs": [
    {
     "data": {
      "text/plain": [
       "[<matplotlib.lines.Line2D at 0x7f9fda16fa90>]"
      ]
     },
     "execution_count": 21,
     "metadata": {},
     "output_type": "execute_result"
    },
    {
     "data": {
      "image/png": "[encoded data removed]",
      "text/plain": [
       "<Figure size 432x288 with 1 Axes>"
      ]
     },
     "metadata": {
      "needs_background": "light"
     },
     "output_type": "display_data"
    }
   ],
   "source": [
    "df = pandas.DataFrame(registred_rows)\n",
    "# df = df[df[\"distance_registration\"] < 100]\n",
    "# df_filtred_label = df[df[\"pm_label\"] == \"mature_leaf\"]\n",
    "\n",
    "# print df[\"sm_inclination_angle\"], df[\"pm_inclination_angle\"], \n",
    "\n",
    "plt.plot(df[\"sm_full_length\"], df[\"pm_full_length\"], \"k+\")\n",
    "plt.plot(df[\"sm_surface\"] / 100.0, df[\"pm_surface\"] / 100.0, \"c+\")\n",
    "plt.plot(df[\"sm_inclination_angle\"] * 100.0, df[\"pm_inclination_angle\"] * 100.0, \"co\")\n",
    "for label, color in [(\"mature_leaf\", \"b+\"), (\"growing_leaf\", \"r+\"), (\"stem\", \"g+\")]:\n",
    "    df_filtred_label = df[df[\"pm_label\"] == label]\n",
    "    plt.plot(df_filtred_label[\"sm_length\"], df_filtred_label[\"pm_length\"], color)\n",
    "\n",
    "plt.plot(df_filtred_label[\"sm_length\"], df_filtred_label[\"pm_length\"], color)\n",
    "plt.xlabel(\"Phenomenal measurements\")\n",
    "plt.ylabel(\"Synthetic measurements\")\n",
    "\n",
    "m = int(max([df[k].max() for k in [\"pm_length\", \"sm_length\", \"pm_full_length\", \"sm_full_length\"]]))\n",
    "plt.plot(range(m), range(m), 'k-')"
   ]
  },
  {
   "cell_type": "code",
   "execution_count": null,
   "metadata": {},
   "outputs": [],
   "source": []
  }
 ],
 "metadata": {
  "kernelspec": {
   "display_name": "Python 3",
   "language": "python",
   "name": "python3"
  },
  "language_info": {
   "codemirror_mode": {
    "name": "ipython",
    "version": 3
   },
   "file_extension": ".py",
   "mimetype": "text/x-python",
   "name": "python",
   "nbconvert_exporter": "python",
   "pygments_lexer": "ipython3",
   "version": "3.8.1"
  }
 },
 "nbformat": 4,
 "nbformat_minor": 2
}
