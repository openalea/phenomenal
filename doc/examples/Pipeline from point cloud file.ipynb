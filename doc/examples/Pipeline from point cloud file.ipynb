{
 "cells": [
  {
   "cell_type": "markdown",
   "metadata": {},
   "source": [
    "# Application on point cloud\n",
    "\n",
    "## Load modules "
   ]
  },
  {
   "cell_type": "code",
   "execution_count": null,
   "metadata": {},
   "outputs": [],
   "source": [
    "import numpy\n",
    "import pandas\n",
    "\n",
    "import openalea.phenomenal.display as phm_display\n",
    "import openalea.phenomenal.data as phm_data\n",
    "import openalea.phenomenal.display.notebook as phm_display_notebook\n",
    "import openalea.phenomenal.object as phm_obj\n",
    "import openalea.phenomenal.multi_view_reconstruction as phm_mvr\n",
    "import openalea.phenomenal.segmentation as phm_seg"
   ]
  },
  {
   "cell_type": "markdown",
   "metadata": {},
   "source": [
    "## Load cloud point cloud \n",
    "\n",
    "First we define a function \"read_from_xyz\" to load our point cloud data "
   ]
  },
  {
   "cell_type": "code",
   "execution_count": null,
   "metadata": {},
   "outputs": [],
   "source": [
    "def read_from_xyz(filename):\n",
    "\n",
    "    xyz_position = list()\n",
    "    with open(filename, 'r') as f:\n",
    "        for line in f:\n",
    "            values = [float(v) for v in line.split()[:3]] # load just position not color\n",
    "            xyz_position.append(tuple(values))\n",
    "    f.close()\n",
    "    \n",
    "    return numpy.array(xyz_position)"
   ]
  },
  {
   "cell_type": "markdown",
   "metadata": {},
   "source": [
    "Maize point cloud was found on : https://github.com/CharlieLeee/Maize-plant-point-cloud-dataset and cleaned mannually with CloudCompare software. 3D reconstruction is pretty bad, leaves are very noised and seems cutted.  "
   ]
  },
  {
   "cell_type": "code",
   "execution_count": null,
   "metadata": {},
   "outputs": [],
   "source": [
    "file_path = \"maize_point_cloud.pts\"\n",
    "xyz_position = read_from_xyz(file_path)\n",
    "phm_display_notebook.show_point_cloud(xyz_position, size=0.1)"
   ]
  },
  {
   "cell_type": "markdown",
   "metadata": {},
   "source": [
    "## Convert point cloud to voxel grid\n",
    "\n",
    "Once loaded, we attribute for each point a fictive voxel size to simulate the data like a voxel grid. More the fictive voxel size is small more the 3D voxel representation is accurate. After we normalize the pointcloud into a grid."
   ]
  },
  {
   "cell_type": "code",
   "execution_count": null,
   "metadata": {},
   "outputs": [],
   "source": [
    "fictive_voxel_size = 0.05\n",
    "\n",
    "voxel_grid = phm_obj.VoxelGrid(numpy.array(xyz_position), fictive_voxel_size)\n",
    "voxel_grid = phm_obj.VoxelGrid.from_image_3d(\n",
    "    voxel_grid.to_image_3d(),\n",
    "    voxels_value=1,\n",
    "    voxels_size=1, # must be integer\n",
    "    world_coordinate=(0.0, 0.0, 0.0))\n",
    "\n",
    "print(\"Shape Image 3D:\", voxel_grid.to_image_3d().shape)\n",
    "\n",
    "phm_display_notebook.show_voxel_grid(voxel_grid, size=1)"
   ]
  },
  {
   "cell_type": "code",
   "execution_count": null,
   "metadata": {},
   "outputs": [],
   "source": [
    "graph = phm_seg.graph_from_voxel_grid(voxel_grid, connect_all_point=False)\n",
    "src_node = tuple(max(graph.nodes(), key=lambda d: d[1]))\n",
    "voxel_skeleton = phm_seg.skeletonize(voxel_grid, graph, src_node=src_node)"
   ]
  },
  {
   "cell_type": "markdown",
   "metadata": {},
   "source": [
    "## Skeletonization"
   ]
  },
  {
   "cell_type": "code",
   "execution_count": null,
   "metadata": {},
   "outputs": [],
   "source": [
    "phm_display_notebook.show_skeleton(voxel_skeleton, with_voxel=True, size=1.0)"
   ]
  },
  {
   "cell_type": "markdown",
   "metadata": {},
   "source": [
    "## Maize Segmentation"
   ]
  },
  {
   "cell_type": "code",
   "execution_count": null,
   "metadata": {},
   "outputs": [],
   "source": [
    "vms = phm_seg.maize_segmentation(voxel_skeleton, graph, stem_strategy=\"longest\")\n",
    "\n",
    "phm_display_notebook.show_segmentation(vms, size=1)"
   ]
  },
  {
   "cell_type": "markdown",
   "metadata": {},
   "source": [
    "## Maize Analysis"
   ]
  },
  {
   "cell_type": "code",
   "execution_count": null,
   "metadata": {},
   "outputs": [],
   "source": [
    "vmsi = phm_seg.maize_analysis(vms)\n",
    "phm_display_notebook.show_segmentation(vmsi, size=1)"
   ]
  },
  {
   "cell_type": "markdown",
   "metadata": {},
   "source": [
    "Take a look, of what kind of data is extract. (pm = phenomenal_mearsurement)"
   ]
  },
  {
   "cell_type": "code",
   "execution_count": null,
   "metadata": {},
   "outputs": [],
   "source": [
    "df = pandas.DataFrame([vo.info for vo in vmsi.voxel_organs]  + [vmsi.info])\n",
    "df"
   ]
  },
  {
   "cell_type": "code",
   "execution_count": null,
   "metadata": {},
   "outputs": [],
   "source": []
  }
 ],
 "metadata": {
  "kernelspec": {
   "display_name": "Python 3 (ipykernel)",
   "language": "python",
   "name": "python3"
  },
  "language_info": {
   "codemirror_mode": {
    "name": "ipython",
    "version": 3
   },
   "file_extension": ".py",
   "mimetype": "text/x-python",
   "name": "python",
   "nbconvert_exporter": "python",
   "pygments_lexer": "ipython3",
   "version": "3.13.3"
  }
 },
 "nbformat": 4,
 "nbformat_minor": 4
}
