{
 "metadata": {
  "name": "",
  "signature": "sha256:d1010f96856bb5a60507c4de763674cbaaf036f6d9b5df3934d0848e6ac34c40"
 },
 "nbformat": 3,
 "nbformat_minor": 0,
 "worksheets": [
  {
   "cells": [
    {
     "cell_type": "heading",
     "level": 1,
     "metadata": {},
     "source": [
      "Cheesboard"
     ]
    },
    {
     "cell_type": "heading",
     "level": 2,
     "metadata": {},
     "source": [
      "1. Prerequisites"
     ]
    },
    {
     "cell_type": "heading",
     "level": 3,
     "metadata": {},
     "source": [
      "1.1 Download data Set "
     ]
    },
    {
     "cell_type": "code",
     "collapsed": false,
     "input": [
      "# Example :\n",
      "data_directory = '../local/CHESSBOARD_1/'"
     ],
     "language": "python",
     "metadata": {},
     "outputs": [],
     "prompt_number": 1
    },
    {
     "cell_type": "heading",
     "level": 3,
     "metadata": {},
     "source": [
      "1.2 Load path file"
     ]
    },
    {
     "cell_type": "code",
     "collapsed": false,
     "input": [
      "import glob\n",
      "\n",
      "data_directory = '../local/CHESSBOARD_1/'\n",
      "\n",
      "# Load path files from directory\n",
      "files_path = glob.glob(data_directory + '*.png')\n",
      "\n",
      "# Extract angles from path files\n",
      "angles = map(lambda x: int((x.split('sv')[1]).split('.png')[0]), files_path)\n",
      "\n",
      "# Example to print loaded angles\n",
      "print 'Angles : ', angles\n",
      "\n",
      "image_path = dict()\n",
      "for i in range(len(files_path)):\n",
      "    image_path[angles[i]] = files_path[i]\n",
      "    \n",
      "# Example to print path 90 angle\n",
      "print 'Patgh 90 angle : ', image_path[90]"
     ],
     "language": "python",
     "metadata": {},
     "outputs": [
      {
       "output_type": "stream",
       "stream": "stdout",
       "text": [
        "Angles :  [0, 3, 6, 9, 12, 15, 18, 21, 24, 27, 30, 33, 36, 39, 42, 45, 48, 51, 54, 57, 60, 63, 66, 69, 72, 75, 78, 81, 84, 87, 90, 93, 96, 99, 102, 105, 108, 354, 357]\n",
        "Patgh 90 angle :  ../local/CHESSBOARD_1\\2013-07-11 15_49_42vis_sv090.png\n"
       ]
      }
     ],
     "prompt_number": 2
    },
    {
     "cell_type": "heading",
     "level": 2,
     "metadata": {},
     "source": [
      "2. Chessboard object"
     ]
    },
    {
     "cell_type": "heading",
     "level": 3,
     "metadata": {},
     "source": [
      "2.1 Create"
     ]
    },
    {
     "cell_type": "markdown",
     "metadata": {},
     "source": [
      "Create chessboard object with square size and shape of chessboard"
     ]
    },
    {
     "cell_type": "code",
     "collapsed": false,
     "input": [
      "import alinea.phenomenal.chessboard\n",
      "\n",
      "square_size_of_chessboard = 47 # mm\n",
      "square_shape_of_chessboard = (8, 6) # 8 square x 6 square on chessboard\n",
      "\n",
      "chessboard_1 = alinea.phenomenal.chessboard.Chessboard(\n",
      "    square_size_of_chessboard, square_shape_of_chessboard)"
     ],
     "language": "python",
     "metadata": {},
     "outputs": [],
     "prompt_number": 3
    },
    {
     "cell_type": "heading",
     "level": 3,
     "metadata": {},
     "source": [
      "2.2 Find corners"
     ]
    },
    {
     "cell_type": "code",
     "collapsed": false,
     "input": [
      "import cv2\n",
      "\n",
      "for angle in image_path:\n",
      "    # Load image with OpenCv\n",
      "    img = cv2.imread(image_path[angle], cv2.IMREAD_GRAYSCALE)\n",
      "    # Call chessboard object function for find corners\n",
      "    chessboard_1.find_and_add_corners(angle, img)"
     ],
     "language": "python",
     "metadata": {},
     "outputs": [],
     "prompt_number": 4
    },
    {
     "cell_type": "heading",
     "level": 3,
     "metadata": {},
     "source": [
      "2.3 Read & Write"
     ]
    },
    {
     "cell_type": "code",
     "collapsed": false,
     "input": [
      "# Write \n",
      "chessboard_1.write('chessboard_1')"
     ],
     "language": "python",
     "metadata": {},
     "outputs": [],
     "prompt_number": 5
    },
    {
     "cell_type": "code",
     "collapsed": false,
     "input": [
      "# Read\n",
      "chessboard_1 = alinea.phenomenal.chessboard.Chessboard.read('chessboard_1')"
     ],
     "language": "python",
     "metadata": {},
     "outputs": [],
     "prompt_number": 6
    }
   ],
   "metadata": {}
  }
 ]
}