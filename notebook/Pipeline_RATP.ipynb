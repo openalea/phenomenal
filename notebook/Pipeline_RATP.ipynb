{
 "metadata": {
  "name": "",
  "signature": "sha256:e65630a0eca8046cfe79a47af36cee2f0ba8c1559765a43790adb6921f8c50fe"
 },
 "nbformat": 3,
 "nbformat_minor": 0,
 "worksheets": [
  {
   "cells": [
    {
     "cell_type": "heading",
     "level": 1,
     "metadata": {},
     "source": [
      " Pipeline - RATP"
     ]
    },
    {
     "cell_type": "heading",
     "level": 2,
     "metadata": {},
     "source": [
      "0. Incorporate display (optional)"
     ]
    },
    {
     "cell_type": "markdown",
     "metadata": {},
     "source": [
      "Run the cell above if you want displaying images in the notebook"
     ]
    },
    {
     "cell_type": "code",
     "collapsed": false,
     "input": [
      "%matplotlib inline"
     ],
     "language": "python",
     "metadata": {},
     "outputs": [],
     "prompt_number": 5
    },
    {
     "cell_type": "heading",
     "level": 2,
     "metadata": {},
     "source": [
      "1. Data set:"
     ]
    },
    {
     "cell_type": "markdown",
     "metadata": {},
     "source": [
      "Download and extract data set : https://gforge.inria.fr/frs/download.php/file/35148/data_set_0962_A310_ARCH2013-05-13.zip\n",
      "\n",
      "And define data_directory path variable like this :"
     ]
    },
    {
     "cell_type": "code",
     "collapsed": false,
     "input": [
      "# Example :\n",
      "data_directory = \"..\\\\local\\\\data_set_0962_A310_ARCH2013-05-13\\\\\""
     ],
     "language": "python",
     "metadata": {},
     "outputs": [],
     "prompt_number": 1
    },
    {
     "cell_type": "heading",
     "level": 2,
     "metadata": {},
     "source": [
      "2. Original Images :"
     ]
    },
    {
     "cell_type": "heading",
     "level": 3,
     "metadata": {},
     "source": [
      "2.1 Load"
     ]
    },
    {
     "cell_type": "code",
     "collapsed": false,
     "input": [
      "import cv2\n",
      "import alinea.phenomenal.misc\n",
      "\n",
      "files = alinea.phenomenal.misc.load_files(data_directory)\n",
      "\n",
      "# Convert\n",
      "\n",
      "images = dict()\n",
      "for pot_id in files:\n",
      "    images[pot_id] = dict()\n",
      "    for date in files[pot_id]:\n",
      "        images[pot_id][date] = alinea.phenomenal.misc.load_images(files[pot_id][date], cv2.IMREAD_UNCHANGED)\n",
      "        \n",
      "        print pot_id, date"
     ],
     "language": "python",
     "metadata": {},
     "outputs": [
      {
       "output_type": "stream",
       "stream": "stdout",
       "text": [
        "0962 2013-05-24\n",
        "0962"
       ]
      },
      {
       "output_type": "stream",
       "stream": "stdout",
       "text": [
        " 2013-06-22\n",
        "0962"
       ]
      },
      {
       "output_type": "stream",
       "stream": "stdout",
       "text": [
        " 2013-06-06\n",
        "0962"
       ]
      },
      {
       "output_type": "stream",
       "stream": "stdout",
       "text": [
        " 2013-06-25\n"
       ]
      }
     ],
     "prompt_number": 2
    },
    {
     "cell_type": "heading",
     "level": 3,
     "metadata": {},
     "source": [
      "2.2 Viewing"
     ]
    },
    {
     "cell_type": "markdown",
     "metadata": {},
     "source": [
      "You can view each image according to this pot number, date and angle view like this :\n",
      "\n",
      "Note : Angle top view is represented by negative number"
     ]
    },
    {
     "cell_type": "code",
     "collapsed": false,
     "input": [
      "import alinea.phenomenal.viewer\n",
      "\n",
      "alinea.phenomenal.viewer.show_images([images['0962']['2013-06-06'][120], images['0962']['2013-06-22'][-1]])"
     ],
     "language": "python",
     "metadata": {},
     "outputs": [
      {
       "output_type": "stream",
       "stream": "stderr",
       "text": [
        "WARNING:traits.has_traits:DEPRECATED: traits.has_traits.wrapped_class, 'the 'implements' class advisor has been deprecated. Use the 'provides' class decorator.\n"
       ]
      }
     ],
     "prompt_number": 3
    },
    {
     "cell_type": "heading",
     "level": 2,
     "metadata": {},
     "source": [
      "3. Plant Segmented Images"
     ]
    },
    {
     "cell_type": "heading",
     "level": 3,
     "metadata": {},
     "source": [
      "3.1 Binarization"
     ]
    },
    {
     "cell_type": "code",
     "collapsed": false,
     "input": [
      "import alinea.phenomenal.configuration\n",
      "import alinea.phenomenal.binarization\n",
      "\n",
      "factor_binarization = alinea.phenomenal.configuration.binarization_factor('factor_image_basic.cfg')\n",
      "\n",
      "images_binarize_mean_shift = alinea.phenomenal.binarization.binarization(\n",
      "    images['0962']['2013-06-06'], factor_binarization, methods='mean_shift')"
     ],
     "language": "python",
     "metadata": {},
     "outputs": [],
     "prompt_number": 4
    },
    {
     "cell_type": "heading",
     "level": 4,
     "metadata": {},
     "source": [
      "3.1.1 Viewing"
     ]
    },
    {
     "cell_type": "code",
     "collapsed": false,
     "input": [
      "alinea.phenomenal.viewer.show_images([images['0962']['2013-06-06'][120], images_binarize_mean_shift[120]])"
     ],
     "language": "python",
     "metadata": {},
     "outputs": [],
     "prompt_number": 5
    },
    {
     "cell_type": "heading",
     "level": 3,
     "metadata": {},
     "source": [
      "3.2 Remove tutor"
     ]
    },
    {
     "cell_type": "heading",
     "level": 4,
     "metadata": {},
     "source": [
      "3.2.1 Load mask"
     ]
    },
    {
     "cell_type": "code",
     "collapsed": false,
     "input": [
      "# External import\n",
      "import os\n",
      "import cv2\n",
      "# Internal import\n",
      "import openalea.deploy.shared_data\n",
      "import alinea.phenomenal\n",
      "# Load from shared data\n",
      "share_data_directory = openalea.deploy.shared_data.shared_data(alinea.phenomenal)\n",
      "mask_path = os.path.join(share_data_directory, 'roi_stem.png')\n",
      "mask_image = cv2.imread(mask_path, cv2.IMREAD_GRAYSCALE)"
     ],
     "language": "python",
     "metadata": {},
     "outputs": [],
     "prompt_number": 6
    },
    {
     "cell_type": "heading",
     "level": 4,
     "metadata": {},
     "source": [
      "3.2.2 Remove tutor"
     ]
    },
    {
     "cell_type": "code",
     "collapsed": false,
     "input": [
      "import alinea.phenomenal.binarization_post_processing\n",
      "\n",
      "post_processing_images = alinea.phenomenal.binarization_post_processing.\\\n",
      "    remove_plant_support_from_images(images_binarize_mean_shift, mask=mask_image)"
     ],
     "language": "python",
     "metadata": {},
     "outputs": [],
     "prompt_number": 7
    },
    {
     "cell_type": "heading",
     "level": 4,
     "metadata": {},
     "source": [
      "3.2.3 Viewing"
     ]
    },
    {
     "cell_type": "code",
     "collapsed": false,
     "input": [
      "alinea.phenomenal.viewer.show_images([post_processing_images[120], images_binarize_mean_shift[120]])"
     ],
     "language": "python",
     "metadata": {},
     "outputs": [],
     "prompt_number": 8
    },
    {
     "cell_type": "heading",
     "level": 3,
     "metadata": {},
     "source": [
      "3.3 Plant area estimation"
     ]
    },
    {
     "cell_type": "code",
     "collapsed": false,
     "input": [
      "images_side = dict()\n",
      "for angle in post_processing_images:\n",
      "    if 0 <= angle <= 360:\n",
      "        images_side[angle] = post_processing_images[angle]"
     ],
     "language": "python",
     "metadata": {},
     "outputs": [],
     "prompt_number": 9
    },
    {
     "cell_type": "code",
     "collapsed": false,
     "input": [
      "import alinea.phenomenal.model\n",
      "\n",
      "pixel_count = 0\n",
      "for angle in images_side:\n",
      "    pixel_count += cv2.countNonZero(images_side[angle])\n",
      "    \n",
      "\n",
      "pixel_count /= len(images_side)\n",
      "area = alinea.phenomenal.model.plant_area(pixel_count)\n",
      "print area"
     ],
     "language": "python",
     "metadata": {},
     "outputs": [
      {
       "output_type": "stream",
       "stream": "stdout",
       "text": [
        "0.138458607994\n"
       ]
      }
     ],
     "prompt_number": 10
    },
    {
     "cell_type": "heading",
     "level": 2,
     "metadata": {},
     "source": [
      "6. Points cloud representation of 3D plant"
     ]
    },
    {
     "cell_type": "heading",
     "level": 3,
     "metadata": {},
     "source": [
      "6.1 Multi-view reconstruction"
     ]
    },
    {
     "cell_type": "code",
     "collapsed": false,
     "input": [
      "import alinea.phenomenal.calibration_model\n",
      "import alinea.phenomenal.multi_view_reconstruction"
     ],
     "language": "python",
     "metadata": {},
     "outputs": [],
     "prompt_number": 11
    },
    {
     "cell_type": "code",
     "collapsed": false,
     "input": [
      "calibration = alinea.phenomenal.calibration_model.Calibration.read_calibration('tests/test_calibration_model')\n",
      "    \n",
      "images_selected = dict()\n",
      "for angle in post_processing_images:\n",
      "    if 0 <= angle <= 360:\n",
      "        images_selected[angle] = post_processing_images[angle]\n",
      "\n",
      "radius = 4\n",
      "points_3d = alinea.phenomenal.multi_view_reconstruction.reconstruction_3d(images_selected, calibration, precision=radius)\n"
     ],
     "language": "python",
     "metadata": {},
     "outputs": [],
     "prompt_number": 12
    },
    {
     "cell_type": "heading",
     "level": 3,
     "metadata": {},
     "source": [
      "6.2 Read & write"
     ]
    },
    {
     "cell_type": "code",
     "collapsed": false,
     "input": [
      "file_path = '../local/data_set_0962_A310_ARCH2013-05-13/reconstruction_3d/0962_2013-06-06'\n",
      "\n",
      "#Write\n",
      "alinea.phenomenal.misc.write_xyz(points_3d, file_path)\n",
      "\n",
      "#Read\n",
      "points_3d_internal_remove = alinea.phenomenal.misc.read_xyz(file_path)"
     ],
     "language": "python",
     "metadata": {},
     "outputs": [],
     "prompt_number": 13
    },
    {
     "cell_type": "heading",
     "level": 3,
     "metadata": {},
     "source": [
      "6.3 Viewing"
     ]
    },
    {
     "cell_type": "code",
     "collapsed": false,
     "input": [
      "alinea.phenomenal.viewer.show_points_3d(points_3d, scale_factor=2)"
     ],
     "language": "python",
     "metadata": {},
     "outputs": [],
     "prompt_number": 14
    },
    {
     "cell_type": "heading",
     "level": 2,
     "metadata": {},
     "source": [
      "7. Mesh representation of 3D plant"
     ]
    },
    {
     "cell_type": "heading",
     "level": 3,
     "metadata": {},
     "source": [
      "7.1 Mesh"
     ]
    },
    {
     "cell_type": "code",
     "collapsed": false,
     "input": [
      "import alinea.phenomenal.data_transformation\n",
      "import alinea.phenomenal.mesh\n",
      "\n",
      "matrix, index, origin = alinea.phenomenal.data_transformation.points_3d_to_matrix(points_3d, radius)\n",
      "\n",
      "vertices, faces = alinea.phenomenal.mesh.meshing(matrix, origin, radius)"
     ],
     "language": "python",
     "metadata": {},
     "outputs": [],
     "prompt_number": 15
    },
    {
     "cell_type": "heading",
     "level": 3,
     "metadata": {},
     "source": [
      "7.2 Normals"
     ]
    },
    {
     "cell_type": "code",
     "collapsed": false,
     "input": [
      "normals = alinea.phenomenal.mesh.compute_normal(vertices, faces)\n",
      "centers = alinea.phenomenal.mesh.center_of_vertices(vertices, faces)"
     ],
     "language": "python",
     "metadata": {},
     "outputs": [],
     "prompt_number": 16
    },
    {
     "cell_type": "heading",
     "level": 3,
     "metadata": {},
     "source": [
      "7.3 Surface area estimation"
     ]
    },
    {
     "cell_type": "code",
     "collapsed": false,
     "input": [
      "import skimage.measure\n",
      "\n",
      "surface = skimage.measure.mesh_surface_area(vertices, faces)\n",
      "\n",
      "print surface"
     ],
     "language": "python",
     "metadata": {},
     "outputs": [
      {
       "output_type": "stream",
       "stream": "stdout",
       "text": [
        "399847.594758\n"
       ]
      }
     ],
     "prompt_number": 17
    },
    {
     "cell_type": "heading",
     "level": 3,
     "metadata": {},
     "source": [
      "7.4 Read & write"
     ]
    },
    {
     "cell_type": "code",
     "collapsed": false,
     "input": [
      "file_path = '../local/data_set_0962_A310_ARCH2013-05-13/mesh/0962_2013-06-06'\n",
      "\n",
      "# Write\n",
      "alinea.phenomenal.misc.write_mesh(vertices, faces, file_path)\n",
      "\n",
      "# Read\n",
      "vertices, faces = alinea.phenomenal.misc.read_mesh(file_path)"
     ],
     "language": "python",
     "metadata": {},
     "outputs": [],
     "prompt_number": 18
    },
    {
     "cell_type": "heading",
     "level": 3,
     "metadata": {},
     "source": [
      "7.5 Viewing"
     ]
    },
    {
     "cell_type": "code",
     "collapsed": false,
     "input": [
      "alinea.phenomenal.viewer.show_mesh(vertices,\n",
      "                                   faces,\n",
      "                                   normals=normals,\n",
      "                                   centers=centers)"
     ],
     "language": "python",
     "metadata": {},
     "outputs": [],
     "prompt_number": 19
    },
    {
     "cell_type": "heading",
     "level": 3,
     "metadata": {},
     "source": [
      "7.6 PlantGL Format"
     ]
    },
    {
     "cell_type": "heading",
     "level": 4,
     "metadata": {},
     "source": [
      "7.6.1 Code"
     ]
    },
    {
     "cell_type": "code",
     "collapsed": false,
     "input": [
      "import openalea.plantgl.scenegraph as sg\n",
      "\n",
      "scene = sg.Scene()\n",
      "tset = sg.FaceSet(pointList=vertices, indexList=faces)\n",
      "scene += tset"
     ],
     "language": "python",
     "metadata": {},
     "outputs": [
      {
       "ename": "NameError",
       "evalue": "name 'vertices' is not defined",
       "output_type": "pyerr",
       "traceback": [
        "\u001b[1;31m---------------------------------------------------------------------------\u001b[0m\n\u001b[1;31mNameError\u001b[0m                                 Traceback (most recent call last)",
        "\u001b[1;32m<ipython-input-2-e3a70c6110c1>\u001b[0m in \u001b[0;36m<module>\u001b[1;34m()\u001b[0m\n\u001b[0;32m      2\u001b[0m \u001b[1;33m\u001b[0m\u001b[0m\n\u001b[0;32m      3\u001b[0m \u001b[0mscene\u001b[0m \u001b[1;33m=\u001b[0m \u001b[0msg\u001b[0m\u001b[1;33m.\u001b[0m\u001b[0mScene\u001b[0m\u001b[1;33m(\u001b[0m\u001b[1;33m)\u001b[0m\u001b[1;33m\u001b[0m\u001b[0m\n\u001b[1;32m----> 4\u001b[1;33m \u001b[0mtset\u001b[0m \u001b[1;33m=\u001b[0m \u001b[0msg\u001b[0m\u001b[1;33m.\u001b[0m\u001b[0mFaceSet\u001b[0m\u001b[1;33m(\u001b[0m\u001b[0mpointList\u001b[0m\u001b[1;33m=\u001b[0m\u001b[0mvertices\u001b[0m\u001b[1;33m,\u001b[0m \u001b[0mindexList\u001b[0m\u001b[1;33m=\u001b[0m\u001b[0mfaces\u001b[0m\u001b[1;33m)\u001b[0m\u001b[1;33m\u001b[0m\u001b[0m\n\u001b[0m\u001b[0;32m      5\u001b[0m \u001b[0mscene\u001b[0m \u001b[1;33m+=\u001b[0m \u001b[0mtset\u001b[0m\u001b[1;33m\u001b[0m\u001b[0m\n",
        "\u001b[1;31mNameError\u001b[0m: name 'vertices' is not defined"
       ]
      }
     ],
     "prompt_number": 2
    },
    {
     "cell_type": "heading",
     "level": 4,
     "metadata": {},
     "source": [
      "7.6.2 Viewing"
     ]
    },
    {
     "cell_type": "code",
     "collapsed": false,
     "input": [
      "import openalea.plantgl.all as pgl\n",
      "from PyQt4 import QtCore, QtGui\n",
      "qapp = QtGui.QApplication([])\n",
      "\n",
      "pgl.Viewer.display(scene)"
     ],
     "language": "python",
     "metadata": {},
     "outputs": [
      {
       "ename": "NameError",
       "evalue": "name 'scene' is not defined",
       "output_type": "pyerr",
       "traceback": [
        "\u001b[1;31m---------------------------------------------------------------------------\u001b[0m\n\u001b[1;31mNameError\u001b[0m                                 Traceback (most recent call last)",
        "\u001b[1;32m<ipython-input-1-4d2c56ff7243>\u001b[0m in \u001b[0;36m<module>\u001b[1;34m()\u001b[0m\n\u001b[0;32m      3\u001b[0m \u001b[0mqapp\u001b[0m \u001b[1;33m=\u001b[0m \u001b[0mQtGui\u001b[0m\u001b[1;33m.\u001b[0m\u001b[0mQApplication\u001b[0m\u001b[1;33m(\u001b[0m\u001b[1;33m[\u001b[0m\u001b[1;33m]\u001b[0m\u001b[1;33m)\u001b[0m\u001b[1;33m\u001b[0m\u001b[0m\n\u001b[0;32m      4\u001b[0m \u001b[1;33m\u001b[0m\u001b[0m\n\u001b[1;32m----> 5\u001b[1;33m \u001b[0mpgl\u001b[0m\u001b[1;33m.\u001b[0m\u001b[0mViewer\u001b[0m\u001b[1;33m.\u001b[0m\u001b[0mdisplay\u001b[0m\u001b[1;33m(\u001b[0m\u001b[0mscene\u001b[0m\u001b[1;33m)\u001b[0m\u001b[1;33m\u001b[0m\u001b[0m\n\u001b[0m",
        "\u001b[1;31mNameError\u001b[0m: name 'scene' is not defined"
       ]
      }
     ],
     "prompt_number": 1
    },
    {
     "cell_type": "code",
     "collapsed": false,
     "input": [],
     "language": "python",
     "metadata": {},
     "outputs": []
    }
   ],
   "metadata": {}
  }
 ]
}