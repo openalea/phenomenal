{
 "metadata": {
  "name": "",
  "signature": "sha256:dfdcca1dc073894fc6d3eb6b3d0b16f9d64ddb848ed37fb61755916e03edf8f1"
 },
 "nbformat": 3,
 "nbformat_minor": 0,
 "worksheets": [
  {
   "cells": [
    {
     "cell_type": "heading",
     "level": 1,
     "metadata": {},
     "source": [
      "Download data Set"
     ]
    },
    {
     "cell_type": "code",
     "collapsed": false,
     "input": [
      "data_directory = "
     ],
     "language": "python",
     "metadata": {},
     "outputs": []
    }
   ],
   "metadata": {}
  }
 ]
}