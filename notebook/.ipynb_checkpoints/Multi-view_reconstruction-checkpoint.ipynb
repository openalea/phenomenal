{
 "metadata": {
  "name": "",
  "signature": "sha256:f567d83c46013201418620f2eac91b7adf10bc7aeff01b502caf5efdb1ef4dce"
 },
 "nbformat": 3,
 "nbformat_minor": 0,
 "worksheets": [
  {
   "cells": [
    {
     "cell_type": "heading",
     "level": 1,
     "metadata": {},
     "source": [
      "Multi-view reconstruction"
     ]
    },
    {
     "cell_type": "heading",
     "level": 2,
     "metadata": {},
     "source": [
      "1. Prerequisites"
     ]
    },
    {
     "cell_type": "heading",
     "level": 3,
     "metadata": {},
     "source": [
      "1.1 Images binarize"
     ]
    },
    {
     "cell_type": "code",
     "collapsed": false,
     "input": [
      "import alinea.phenomenal.data_load\n",
      "\n",
      "# Load images binarize\n",
      "images = alinea.phenomenal.data_load.test_plant_1_images_binarize()"
     ],
     "language": "python",
     "metadata": {},
     "outputs": [],
     "prompt_number": 1
    },
    {
     "cell_type": "heading",
     "level": 3,
     "metadata": {},
     "source": [
      "1.2 Projection object"
     ]
    },
    {
     "cell_type": "heading",
     "level": 4,
     "metadata": {},
     "source": [
      "1.2 Calibration parameters"
     ]
    },
    {
     "cell_type": "code",
     "collapsed": false,
     "input": [
      "import alinea.phenomenal.data_load\n",
      "import alinea.phenomenal.calibration_model\n",
      "\n",
      "# Load file path\n",
      "params_camera_path, _ = alinea.phenomenal.data_load.test_plant_1_calibration_params_path()\n",
      "# Load camera parameters\n",
      "cam_params = alinea.phenomenal.calibration_model.CameraModelParameters.read(params_camera_path)"
     ],
     "language": "python",
     "metadata": {},
     "outputs": [],
     "prompt_number": 4
    },
    {
     "cell_type": "heading",
     "level": 4,
     "metadata": {},
     "source": [
      "1.3 Projection object"
     ]
    },
    {
     "cell_type": "code",
     "collapsed": false,
     "input": [
      "# Create model projection object\n",
      "projection = alinea.phenomenal.calibration_model.ModelProjection(cam_params)"
     ],
     "language": "python",
     "metadata": {},
     "outputs": [],
     "prompt_number": 5
    },
    {
     "cell_type": "heading",
     "level": 2,
     "metadata": {},
     "source": [
      "2. Multi-view reconstruction"
     ]
    },
    {
     "cell_type": "heading",
     "level": 3,
     "metadata": {},
     "source": [
      "2.1 Select images"
     ]
    },
    {
     "cell_type": "code",
     "collapsed": false,
     "input": [
      "images_selected = dict()\n",
      "for angle in range(0, 360, 30):\n",
      "    images_selected[angle] = images[angle]"
     ],
     "language": "python",
     "metadata": {},
     "outputs": [],
     "prompt_number": 6
    },
    {
     "cell_type": "heading",
     "level": 3,
     "metadata": {},
     "source": [
      "2.2 Do multi-view reconstruction"
     ]
    },
    {
     "cell_type": "code",
     "collapsed": false,
     "input": [
      "import alinea.phenomenal.multi_view_reconstruction\n",
      "\n",
      "points_3d = alinea.phenomenal.multi_view_reconstruction.reconstruction_3d(\n",
      "    images_selected, projection, precision=5, verbose=True)"
     ],
     "language": "python",
     "metadata": {},
     "outputs": [
      {
       "output_type": "stream",
       "stream": "stdout",
       "text": [
        "Iteration 1 / 9  :  8 "
       ]
      },
      {
       "output_type": "stream",
       "stream": "stdout",
       "text": [
        " -  8\n",
        "Iteration 2 / 9  :  64 "
       ]
      },
      {
       "output_type": "stream",
       "stream": "stdout",
       "text": [
        " -  8\n",
        "Iteration 3 / 9  :  64 "
       ]
      },
      {
       "output_type": "stream",
       "stream": "stdout",
       "text": [
        " -  12\n",
        "Iteration 4 / 9  :  96 "
       ]
      },
      {
       "output_type": "stream",
       "stream": "stdout",
       "text": [
        " -  35\n",
        "Iteration 5 / 9  :  280 "
       ]
      },
      {
       "output_type": "stream",
       "stream": "stdout",
       "text": [
        " -  105\n",
        "Iteration 6 / 9  :  840 "
       ]
      },
      {
       "output_type": "stream",
       "stream": "stdout",
       "text": [
        " -  284\n",
        "Iteration 7 / 9  :  2272 "
       ]
      },
      {
       "output_type": "stream",
       "stream": "stdout",
       "text": [
        " -  950\n",
        "Iteration 8 / 9  :  7600 "
       ]
      },
      {
       "output_type": "stream",
       "stream": "stdout",
       "text": [
        " -  3477\n",
        "Iteration 9 / 9  :  27816 "
       ]
      },
      {
       "output_type": "stream",
       "stream": "stdout",
       "text": [
        " -  14196\n"
       ]
      }
     ],
     "prompt_number": 7
    },
    {
     "cell_type": "heading",
     "level": 3,
     "metadata": {},
     "source": [
      "2.3 Read & Write"
     ]
    },
    {
     "cell_type": "code",
     "collapsed": false,
     "input": [
      "import alinea.phenomenal.misc\n",
      "\n",
      "# Write\n",
      "alinea.phenomenal.misc.write_xyz(points_3d, 'test_plant_1_points_3d')\n",
      "\n",
      "# Read\n",
      "points_3d = alinea.phenomenal.misc.read_xyz('test_plant_1_points_3d')"
     ],
     "language": "python",
     "metadata": {},
     "outputs": [],
     "prompt_number": 12
    },
    {
     "cell_type": "heading",
     "level": 3,
     "metadata": {},
     "source": [
      "2.4 Viewing"
     ]
    },
    {
     "cell_type": "code",
     "collapsed": false,
     "input": [
      "import alinea.phenomenal.viewer\n",
      "\n",
      "alinea.phenomenal.viewer.show_points_3d(points_3d, scale_factor=2)"
     ],
     "language": "python",
     "metadata": {},
     "outputs": [
      {
       "output_type": "stream",
       "stream": "stderr",
       "text": [
        "WARNING:traits.has_traits:DEPRECATED: traits.has_traits.wrapped_class, 'the 'implements' class advisor has been deprecated. Use the 'provides' class decorator.\n"
       ]
      }
     ],
     "prompt_number": 8
    },
    {
     "cell_type": "code",
     "collapsed": false,
     "input": [],
     "language": "python",
     "metadata": {},
     "outputs": []
    }
   ],
   "metadata": {}
  }
 ]
}