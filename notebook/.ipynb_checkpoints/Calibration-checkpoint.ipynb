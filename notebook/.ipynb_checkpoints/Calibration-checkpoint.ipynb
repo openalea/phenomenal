{
 "metadata": {
  "name": "",
  "signature": "sha256:58219b5a81112d382bec3a5a1df60dda78dba5b11ff9cf12eb0ce7f2a7bf10cd"
 },
 "nbformat": 3,
 "nbformat_minor": 0,
 "worksheets": [
  {
   "cells": [
    {
     "cell_type": "heading",
     "level": 1,
     "metadata": {},
     "source": [
      "I. Download data Set"
     ]
    },
    {
     "cell_type": "code",
     "collapsed": false,
     "input": [
      "data_directory = '../local/CHESSBOARD_1/'"
     ],
     "language": "python",
     "metadata": {},
     "outputs": [],
     "prompt_number": 37
    },
    {
     "cell_type": "heading",
     "level": 1,
     "metadata": {},
     "source": [
      "II. Load image file"
     ]
    },
    {
     "cell_type": "heading",
     "level": 2,
     "metadata": {},
     "source": [
      "II.1 load path files from directory and extract angles"
     ]
    },
    {
     "cell_type": "code",
     "collapsed": false,
     "input": [
      "import glob\n",
      "\n",
      "# Load path files from directory\n",
      "files_path = glob.glob(data_directory + '*.png')\n",
      "# Extract angles from path files\n",
      "angles = map(lambda x: int((x.split('sv')[1]).split('.png')[0]), files_path)\n",
      "# Print angles\n",
      "print angles"
     ],
     "language": "python",
     "metadata": {},
     "outputs": [
      {
       "output_type": "stream",
       "stream": "stdout",
       "text": [
        "[0, 3, 6, 9, 12, 15, 18, 21, 24, 27, 30, 33, 36, 39, 42, 45, 48, 51, 54, 57, 60, 63, 66, 69, 72, 75, 78, 81, 84, 87, 90, 93, 96, 99, 102, 105, 108, 354, 357]\n"
       ]
      }
     ],
     "prompt_number": 38
    },
    {
     "cell_type": "heading",
     "level": 2,
     "metadata": {},
     "source": [
      "II.0 Construct dictionaries "
     ]
    },
    {
     "cell_type": "code",
     "collapsed": false,
     "input": [
      "image_path = dict()\n",
      "for i in range(len(files_path)):\n",
      "    image_path[angles[i]] = files_path[i]"
     ],
     "language": "python",
     "metadata": {},
     "outputs": [],
     "prompt_number": 29
    },
    {
     "cell_type": "code",
     "collapsed": false,
     "input": [
      "print image_path[90]"
     ],
     "language": "python",
     "metadata": {},
     "outputs": [
      {
       "output_type": "stream",
       "stream": "stdout",
       "text": [
        "../local/CHESSBOARD_1\\2013-07-11 15_49_42vis_sv090.png\n"
       ]
      }
     ],
     "prompt_number": 31
    },
    {
     "cell_type": "heading",
     "level": 1,
     "metadata": {},
     "source": [
      "3. Chessboard"
     ]
    },
    {
     "cell_type": "heading",
     "level": 2,
     "metadata": {},
     "source": [
      "3.1 Create chessboard Object"
     ]
    },
    {
     "cell_type": "markdown",
     "metadata": {},
     "source": [
      "Create chessboard object with square size and shape of chessboard"
     ]
    },
    {
     "cell_type": "code",
     "collapsed": false,
     "input": [
      "import alinea.phenomenal.chessboard\n",
      "\n",
      "square_size_of_chessboard = 47 # mm\n",
      "square_shape_of_chessboard = (8, 6) # 8 square x 6 square on chessboard\n",
      "\n",
      "chessboard = alinea.phenomenal.chessboard.Chessboard(square_size_of_chessboard, square_shape_of_chessboard)"
     ],
     "language": "python",
     "metadata": {},
     "outputs": [],
     "prompt_number": 41
    },
    {
     "cell_type": "heading",
     "level": 2,
     "metadata": {},
     "source": [
      "3.2 Find chessboard corners"
     ]
    },
    {
     "cell_type": "code",
     "collapsed": false,
     "input": [
      "import cv2\n",
      "\n",
      "for angle in image_path:\n",
      "    # Load image with OpenCv\n",
      "    img = cv2.imread(image_path[angle], cv2.IMREAD_GRAYSCALE)\n",
      "    # Call chessboard object function for find corners\n",
      "    chessboard.find_and_add_corners(angle, img)"
     ],
     "language": "python",
     "metadata": {},
     "outputs": [],
     "prompt_number": 44
    },
    {
     "cell_type": "heading",
     "level": 3,
     "metadata": {},
     "source": [
      "Read & Write"
     ]
    },
    {
     "cell_type": "code",
     "collapsed": false,
     "input": [
      "chessboard.write('chessboard')\n",
      "\n",
      "chessboard = alinea.phenomenal.chessboard.Chessboard.read('chessboard_1')"
     ],
     "language": "python",
     "metadata": {},
     "outputs": []
    }
   ],
   "metadata": {}
  }
 ]
}