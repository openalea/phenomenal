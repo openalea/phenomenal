{
 "metadata": {
  "name": "",
  "signature": "sha256:c4e7563601b6a3cb30f61f732ce1508e64539b4825d11d3f17b87ac32da8398c"
 },
 "nbformat": 3,
 "nbformat_minor": 0,
 "worksheets": [
  {
   "cells": [
    {
     "cell_type": "heading",
     "level": 1,
     "metadata": {},
     "source": [
      "Calibration"
     ]
    },
    {
     "cell_type": "heading",
     "level": 2,
     "metadata": {},
     "source": [
      "1. Prerequisites"
     ]
    },
    {
     "cell_type": "heading",
     "level": 3,
     "metadata": {},
     "source": [
      "1.1 Chessboard object"
     ]
    },
    {
     "cell_type": "markdown",
     "metadata": {},
     "source": [
      "See [Chessboard](Chessboard.ipynb) notebook to create one chessboard object if he don't exist or load existing file with :"
     ]
    },
    {
     "cell_type": "code",
     "collapsed": false,
     "input": [
      "import alinea.phenomenal.chessboard\n",
      "\n",
      "# Read\n",
      "chessboard_1 = alinea.phenomenal.chessboard.Chessboard.read('chessboard_1')\n",
      "chessboard_2 = alinea.phenomenal.chessboard.Chessboard.read('chessboard_2')"
     ],
     "language": "python",
     "metadata": {},
     "outputs": [],
     "prompt_number": 1
    },
    {
     "cell_type": "heading",
     "level": 2,
     "metadata": {},
     "source": [
      "2. Calibrate"
     ]
    },
    {
     "cell_type": "heading",
     "level": 3,
     "metadata": {},
     "source": [
      "2.1 Do calibration"
     ]
    },
    {
     "cell_type": "code",
     "collapsed": false,
     "input": [
      "# Import module \n",
      "import alinea.phenomenal.calibration_model\n",
      "\n",
      "# Define size image of image chessboard to calibrate\n",
      "size_image = (2056, 2454)\n",
      "\n",
      "# Defines in a list how many chessboard you want use to calibrate camera (1 or 2)\n",
      "chessboards = [chessboard_1, chessboard_2]\n",
      "\n",
      "# Create calibration object\n",
      "calibration = alinea.phenomenal.calibration_model.Calibration(chessboards, size_image, verbose=False)\n",
      "\n",
      "# Calibrate model parameters\n",
      "cam_params, chess_params = calibration.find_model_parameters(number_of_repetition=0)"
     ],
     "language": "python",
     "metadata": {},
     "outputs": [
      {
       "output_type": "stream",
       "stream": "stderr",
       "text": [
        "C:\\Python27\\lib\\site-packages\\scipy\\optimize\\_basinhopping.py:290: RuntimeWarning: overflow encountered in exp\n",
        "  w = min(1.0, np.exp(-(energy_new - energy_old) * self.beta))\n"
       ]
      }
     ],
     "prompt_number": 2
    },
    {
     "cell_type": "heading",
     "level": 3,
     "metadata": {},
     "source": [
      "2.2 Parameters"
     ]
    },
    {
     "cell_type": "code",
     "collapsed": false,
     "input": [
      "print cam_params\n",
      "print chess_params[0]\n",
      "print chess_params[1]"
     ],
     "language": "python",
     "metadata": {},
     "outputs": [
      {
       "output_type": "stream",
       "stream": "stdout",
       "text": [
        "Camera :\n",
        "Size image : (2056, 2454)\n",
        "Focal X : 4675.08557814\n",
        "Focal Y : 4672.63349612\n",
        "Distance camera : 5447.86541649\n",
        "Zero offset : 2.03098765196\n",
        "Angle x (rad) : 0.00749217949139\n",
        "Angle y (rad) : 5.82435660428\n",
        "Angle z (rad) : 6.27969484719\n",
        "\n",
        "Chessboard :\n",
        "Position x : -141.503084298\n",
        "Position y : 202.007216159\n",
        "Position z : -387.305731583\n",
        "Angle x (rad): 3.87720363637\n",
        "Angle y (rad): 5.04951644331\n",
        "Angle z (rad): 2.36886473523\n",
        "\n",
        "Chessboard :\n",
        "Position x : 119.304852928\n",
        "Position y : -231.062194954\n",
        "Position z : -345.562837681\n",
        "Angle x (rad): 5.4443793908\n",
        "Angle y (rad): 2.01170788777\n",
        "Angle z (rad): 2.41133703444\n",
        "\n"
       ]
      }
     ],
     "prompt_number": 3
    },
    {
     "cell_type": "heading",
     "level": 3,
     "metadata": {},
     "source": [
      "2.3 Calibration error"
     ]
    },
    {
     "cell_type": "code",
     "collapsed": false,
     "input": [
      "err = alinea.phenomenal.calibration_model.compute_error_projection(\n",
      "    cam_params, chessboards, chess_params)\n",
      "\n",
      "print 'Error : ', err\n",
      "print 'Error mean : ', err / (len(chessboard_1.corners_points) + len(chessboard_2.corners_points))"
     ],
     "language": "python",
     "metadata": {},
     "outputs": [
      {
       "output_type": "stream",
       "stream": "stdout",
       "text": [
        "Error :  574.373020409\n",
        "Error mean :  7.45938987544\n"
       ]
      }
     ],
     "prompt_number": 9
    },
    {
     "cell_type": "heading",
     "level": 3,
     "metadata": {},
     "source": [
      "2.4 Read & Write parameters"
     ]
    },
    {
     "cell_type": "code",
     "collapsed": false,
     "input": [
      "# Write \n",
      "cam_params.write('params_camera')\n",
      "chess_params[0].write('params_chessboard_1')\n",
      "chess_params[1].write('params_chessboard_2')\n",
      "\n",
      "# Read \n",
      "cam_params = alinea.phenomenal.calibration_model.CameraModelParameters.read('params_camera')\n",
      "\n",
      "chess_params = list()\n",
      "chess_params.append(alinea.phenomenal.calibration_model.ChessboardModelParameters.read('params_chessboard_1'))\n",
      "chess_params.append(alinea.phenomenal.calibration_model.ChessboardModelParameters.read('params_chessboard_2'))"
     ],
     "language": "python",
     "metadata": {},
     "outputs": [],
     "prompt_number": 5
    },
    {
     "cell_type": "heading",
     "level": 3,
     "metadata": {},
     "source": [
      "2.5 Projection object"
     ]
    },
    {
     "cell_type": "code",
     "collapsed": false,
     "input": [
      "projection = alinea.phenomenal.calibration_model.ModelProjection(cam_params)"
     ],
     "language": "python",
     "metadata": {},
     "outputs": [],
     "prompt_number": 6
    },
    {
     "cell_type": "heading",
     "level": 3,
     "metadata": {},
     "source": [
      "2.6 Viewing calibration error "
     ]
    },
    {
     "cell_type": "heading",
     "level": 4,
     "metadata": {},
     "source": [
      "2.6.1 Load path file from chessboard image dataset"
     ]
    },
    {
     "cell_type": "code",
     "collapsed": false,
     "input": [
      "import glob\n",
      "\n",
      "data_directory = '../local/CHESSBOARD_1/'\n",
      "\n",
      "# Load path files from directory\n",
      "files_path = glob.glob(data_directory + '*.png')\n",
      "\n",
      "# Extract angles from path files\n",
      "angles = map(lambda x: int((x.split('sv')[1]).split('.png')[0]), files_path)\n",
      "\n",
      "# Example to print loaded angles\n",
      "print 'Angles : ', angles\n",
      "\n",
      "image_path = dict()\n",
      "for i in range(len(files_path)):\n",
      "    image_path[angles[i]] = files_path[i]\n",
      "    \n",
      "# Example to print path 90 angle\n",
      "print 'Patgh 90 angle : ', image_path[90]"
     ],
     "language": "python",
     "metadata": {},
     "outputs": [
      {
       "output_type": "stream",
       "stream": "stdout",
       "text": [
        "Angles :  [0, 3, 6, 9, 12, 15, 18, 21, 24, 27, 30, 33, 36, 39, 42, 45, 48, 51, 54, 57, 60, 63, 66, 69, 72, 75, 78, 81, 84, 87, 90, 93, 96, 99, 102, 105, 108, 354, 357]\n",
        "Patgh 90 angle :  ../local/CHESSBOARD_1\\2013-07-11 15_49_42vis_sv090.png\n"
       ]
      }
     ],
     "prompt_number": 7
    },
    {
     "cell_type": "heading",
     "level": 4,
     "metadata": {},
     "source": [
      "2.6.2 Show chessboard image with corners projection"
     ]
    },
    {
     "cell_type": "code",
     "collapsed": false,
     "input": [
      "import cv2\n",
      "import alinea.phenomenal.viewer\n",
      "\n",
      "angle = 42\n",
      "\n",
      "img = cv2.imread(image_path[angle], cv2.IMREAD_UNCHANGED)\n",
      "\n",
      "alinea.phenomenal.viewer.show_chessboard_3d_projection_on_image(\n",
      "        img,\n",
      "        angle,\n",
      "        chessboard_1,\n",
      "        chess_params[0],\n",
      "        projection,\n",
      "        name_windows=str(angle))"
     ],
     "language": "python",
     "metadata": {},
     "outputs": [
      {
       "output_type": "stream",
       "stream": "stderr",
       "text": [
        "WARNING:traits.has_traits:DEPRECATED: traits.has_traits.wrapped_class, 'the 'implements' class advisor has been deprecated. Use the 'provides' class decorator.\n"
       ]
      }
     ],
     "prompt_number": 8
    },
    {
     "cell_type": "code",
     "collapsed": false,
     "input": [],
     "language": "python",
     "metadata": {},
     "outputs": []
    }
   ],
   "metadata": {}
  }
 ]
}