{
 "metadata": {
  "name": "",
  "signature": "sha256:8902ae1c1e2362c49cf22ddacb908af314d1b4f19836367877865df52360739f"
 },
 "nbformat": 3,
 "nbformat_minor": 0,
 "worksheets": [
  {
   "cells": [
    {
     "cell_type": "heading",
     "level": 1,
     "metadata": {},
     "source": [
      "Phenomenal - Basic usage"
     ]
    },
    {
     "cell_type": "heading",
     "level": 2,
     "metadata": {},
     "source": [
      "0. Incorporate display"
     ]
    },
    {
     "cell_type": "markdown",
     "metadata": {},
     "source": [
      "Run the cell above if you want displaying images in the notebook"
     ]
    },
    {
     "cell_type": "code",
     "collapsed": false,
     "input": [
      "%matplotlib inline"
     ],
     "language": "python",
     "metadata": {},
     "outputs": [],
     "prompt_number": 1
    },
    {
     "cell_type": "heading",
     "level": 2,
     "metadata": {},
     "source": [
      "1. Download data set:"
     ]
    },
    {
     "cell_type": "markdown",
     "metadata": {},
     "source": [
      "Download and extract data set : https://gforge.inria.fr/frs/download.php/file/35148/data_set_0962_A310_ARCH2013-05-13.zip\n",
      "\n",
      "And define data_directory path variable like this :"
     ]
    },
    {
     "cell_type": "code",
     "collapsed": false,
     "input": [
      "data_directory = \"..\\\\local\\\\data_set_0962_A310_ARCH2013-05-13\\\\\""
     ],
     "language": "python",
     "metadata": {},
     "outputs": [],
     "prompt_number": 14
    },
    {
     "cell_type": "heading",
     "level": 2,
     "metadata": {},
     "source": [
      "2. Load images :"
     ]
    },
    {
     "cell_type": "code",
     "collapsed": false,
     "input": [
      "import cv2\n",
      "import alinea.phenomenal.misc\n",
      "\n",
      "images = alinea.phenomenal.misc.load_files(data_directory)\n",
      "\n",
      "for pot_id in images:\n",
      "    for date in images[pot_id]:\n",
      "        \n",
      "        files = images[pot_id][date]\n",
      "        \n",
      "        images[pot_id][date] = alinea.phenomenal.misc.load_images(files, cv2.IMREAD_UNCHANGED)\n",
      "        \n",
      "        print pot_id, date"
     ],
     "language": "python",
     "metadata": {},
     "outputs": [
      {
       "output_type": "stream",
       "stream": "stdout",
       "text": [
        "0962 2013-05-24\n",
        "0962"
       ]
      },
      {
       "output_type": "stream",
       "stream": "stdout",
       "text": [
        " 2013-06-22\n",
        "0962"
       ]
      },
      {
       "output_type": "stream",
       "stream": "stdout",
       "text": [
        " 2013-06-06\n",
        "0962"
       ]
      },
      {
       "output_type": "stream",
       "stream": "stdout",
       "text": [
        " 2013-06-25\n"
       ]
      }
     ],
     "prompt_number": 15
    },
    {
     "cell_type": "heading",
     "level": 3,
     "metadata": {},
     "source": [
      "2.1 Visualisation"
     ]
    },
    {
     "cell_type": "markdown",
     "metadata": {},
     "source": [
      "You can view each image according to this pot number, date and angle view like this :\n",
      "\n",
      "Note : Angle top view is represented by negative number"
     ]
    },
    {
     "cell_type": "code",
     "collapsed": false,
     "input": [
      "import alinea.phenomenal.result_viewer\n",
      "\n",
      "alinea.phenomenal.result_viewer.show_images([images['0962']['2013-06-22'][120], images['0962']['2013-06-22'][-1]])"
     ],
     "language": "python",
     "metadata": {},
     "outputs": [
      {
       "output_type": "stream",
       "stream": "stderr",
       "text": [
        "WARNING:traits.has_traits:DEPRECATED: traits.has_traits.wrapped_class, 'the 'implements' class advisor has been deprecated. Use the 'provides' class decorator.\n"
       ]
      }
     ],
     "prompt_number": 16
    },
    {
     "cell_type": "heading",
     "level": 2,
     "metadata": {},
     "source": [
      "3. Binarization"
     ]
    },
    {
     "cell_type": "code",
     "collapsed": false,
     "input": [
      "import alinea.phenomenal.configuration\n",
      "import alinea.phenomenal.binarization\n",
      "\n",
      "factor_binarization = alinea.phenomenal.configuration.binarization_factor('factor_image_basic.cfg')\n",
      "\n",
      "images_binarize_mean_shift = alinea.phenomenal.binarization.binarization(\n",
      "    images['0962']['2013-06-22'], factor_binarization, methods='mean_shift')"
     ],
     "language": "python",
     "metadata": {},
     "outputs": [],
     "prompt_number": 17
    },
    {
     "cell_type": "heading",
     "level": 3,
     "metadata": {},
     "source": [
      "Visualisation"
     ]
    },
    {
     "cell_type": "code",
     "collapsed": false,
     "input": [
      "alinea.phenomenal.result_viewer.show_images([images['0962']['2013-06-22'][120], images_binarize_mean_shift[120]])"
     ],
     "language": "python",
     "metadata": {},
     "outputs": [],
     "prompt_number": 18
    },
    {
     "cell_type": "heading",
     "level": 2,
     "metadata": {},
     "source": [
      "Repair"
     ]
    },
    {
     "cell_type": "code",
     "collapsed": false,
     "input": [
      "import alinea.phenomenal.repair_processing"
     ],
     "language": "python",
     "metadata": {},
     "outputs": [],
     "prompt_number": 19
    },
    {
     "cell_type": "code",
     "collapsed": false,
     "input": [
      "repair_images = alinea.phenomenal.repair_processing.repair_processing(images_binarize_mean_shift)"
     ],
     "language": "python",
     "metadata": {},
     "outputs": [],
     "prompt_number": 20
    },
    {
     "cell_type": "heading",
     "level": 3,
     "metadata": {},
     "source": [
      "Visualisation"
     ]
    },
    {
     "cell_type": "code",
     "collapsed": false,
     "input": [
      "alinea.phenomenal.result_viewer.show_images([repair_images[120], images_binarize_mean_shift[120]])"
     ],
     "language": "python",
     "metadata": {},
     "outputs": [],
     "prompt_number": 21
    },
    {
     "cell_type": "heading",
     "level": 2,
     "metadata": {},
     "source": [
      "Plant Area"
     ]
    },
    {
     "cell_type": "code",
     "collapsed": false,
     "input": [
      "images_side = dict()\n",
      "for angle in repair_images:\n",
      "    if 0 <= angle <= 360:\n",
      "        images_side[angle] = images_side[angle]"
     ],
     "language": "python",
     "metadata": {},
     "outputs": []
    },
    {
     "cell_type": "code",
     "collapsed": false,
     "input": [
      "import alinea.phenomenal.model\n",
      "\n",
      "pixel_count = 0\n",
      "for angle in images_side:\n",
      "    pixel_count += cv2.countNonZero(images_selected[angle])\n",
      "    \n",
      "\n",
      "print pixel_count / len(images_side)\n",
      "area = alinea.phenomenal.model.plant_area(pixel_count)\n",
      "print area"
     ],
     "language": "python",
     "metadata": {},
     "outputs": [
      {
       "output_type": "stream",
       "stream": "stdout",
       "text": [
        "1510228\n",
        "4.96727891051\n"
       ]
      }
     ],
     "prompt_number": 38
    },
    {
     "cell_type": "heading",
     "level": 2,
     "metadata": {},
     "source": [
      "Multi-view reconstruction"
     ]
    },
    {
     "cell_type": "code",
     "collapsed": false,
     "input": [
      "import alinea.phenomenal.calibration_model\n",
      "import alinea.phenomenal.multi_view_reconstruction"
     ],
     "language": "python",
     "metadata": {},
     "outputs": [],
     "prompt_number": 22
    },
    {
     "cell_type": "code",
     "collapsed": false,
     "input": [
      "calibration = alinea.phenomenal.calibration_model.Calibration.read_calibration('tests/test_calibration_model')\n",
      "    \n",
      "images_selected = dict()\n",
      "for angle in repair_images:\n",
      "    if 0 <= angle <= 360:\n",
      "        images_selected[angle] = repair_images[angle]\n",
      "\n",
      "radius = 4\n",
      "points_3d = alinea.phenomenal.multi_view_reconstruction.reconstruction_3d(images_selected, calibration, precision=radius)"
     ],
     "language": "python",
     "metadata": {},
     "outputs": [],
     "prompt_number": 23
    },
    {
     "cell_type": "heading",
     "level": 3,
     "metadata": {},
     "source": [
      "Visualisation"
     ]
    },
    {
     "cell_type": "code",
     "collapsed": false,
     "input": [
      "alinea.phenomenal.result_viewer.show_points_3d(points_3d, scale_factor=2)"
     ],
     "language": "python",
     "metadata": {},
     "outputs": [],
     "prompt_number": 25
    },
    {
     "cell_type": "heading",
     "level": 2,
     "metadata": {},
     "source": [
      "Remove internal points"
     ]
    },
    {
     "cell_type": "code",
     "collapsed": false,
     "input": [
      "import alinea.phenomenal.data_transformation\n",
      "\n",
      "points_3d_internal_remove = alinea.phenomenal.data_transformation.remove_internal_points_3d(points_3d, radius)"
     ],
     "language": "python",
     "metadata": {},
     "outputs": [],
     "prompt_number": 27
    },
    {
     "cell_type": "heading",
     "level": 3,
     "metadata": {},
     "source": [
      "Visualisation"
     ]
    },
    {
     "cell_type": "code",
     "collapsed": false,
     "input": [
      "alinea.phenomenal.result_viewer.show_points_3d(points_3d_internal_remove, scale_factor=2)"
     ],
     "language": "python",
     "metadata": {},
     "outputs": [],
     "prompt_number": 28
    },
    {
     "cell_type": "heading",
     "level": 2,
     "metadata": {},
     "source": [
      "Read & Write"
     ]
    },
    {
     "cell_type": "code",
     "collapsed": false,
     "input": [
      "file_path = '../local/data_set_0962_A310_ARCH2013-05-13/reconstruction_3d/0962_2013-06-22'\n",
      "\n",
      "alinea.phenomenal.misc.write_xyz(points_3d_internal_remove, file_path)\n",
      "\n",
      "points_3d_internal_remove = alinea.phenomenal.misc.read_xyz(file_path)"
     ],
     "language": "python",
     "metadata": {},
     "outputs": [],
     "prompt_number": 32
    },
    {
     "cell_type": "heading",
     "level": 2,
     "metadata": {},
     "source": [
      "Visualisation"
     ]
    },
    {
     "cell_type": "code",
     "collapsed": false,
     "input": [
      "alinea.phenomenal.result_viewer.show_points_3d(points_3d_internal_remove, scale_factor=2)"
     ],
     "language": "python",
     "metadata": {},
     "outputs": [],
     "prompt_number": 33
    },
    {
     "cell_type": "heading",
     "level": 2,
     "metadata": {},
     "source": [
      "Mesh"
     ]
    },
    {
     "cell_type": "code",
     "collapsed": false,
     "input": [
      "import alinea.phenomenal.mesh\n",
      "\n",
      "matrix, index = alinea.phenomenal.data_transformation.points_3d_to_matrix(points_3d, radius)\n",
      "\n",
      "verts, faces = alinea.phenomenal.mesh.meshing(matrix)\n",
      "normals = alinea.phenomenal.mesh.compute_normal(verts, faces)\n",
      "centers = alinea.phenomenal.mesh.center_of_vertice(verts, faces)"
     ],
     "language": "python",
     "metadata": {},
     "outputs": [],
     "prompt_number": 30
    },
    {
     "cell_type": "heading",
     "level": 3,
     "metadata": {},
     "source": [
      "Visualisation"
     ]
    },
    {
     "cell_type": "code",
     "collapsed": false,
     "input": [
      "import mayavi.mlab\n",
      "mayavi.mlab.quiver3d(centers[:, 0], centers[:, 1], centers[:, 2],\n",
      "                     normals[:, 0], normals[:, 1], normals[:, 2],\n",
      "                     line_width=1.0,\n",
      "                     scale_factor=1)\n",
      "\n",
      "mayavi.mlab.quiver3d(0, 0, 0, 1, 0, 0, line_width=5.0, scale_factor=100)\n",
      "mayavi.mlab.quiver3d(0, 0, 0, 0, 1, 0, line_width=5.0, scale_factor=100)\n",
      "mayavi.mlab.quiver3d(0, 0, 0, 0, 0, 1, line_width=5.0, scale_factor=100)\n",
      "\n",
      "mayavi.mlab.triangular_mesh([vert[0] for vert in verts],\n",
      "                            [vert[1] for vert in verts],\n",
      "                            [vert[2] for vert in verts],\n",
      "                            faces)\n",
      "\n",
      "mayavi.mlab.show()"
     ],
     "language": "python",
     "metadata": {},
     "outputs": [],
     "prompt_number": 31
    },
    {
     "cell_type": "code",
     "collapsed": false,
     "input": [],
     "language": "python",
     "metadata": {},
     "outputs": []
    }
   ],
   "metadata": {}
  }
 ]
}