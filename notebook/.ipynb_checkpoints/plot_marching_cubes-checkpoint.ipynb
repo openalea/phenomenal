{
 "metadata": {
  "name": "",
  "signature": "sha256:9bdc6793f09147c258871da418ef080fc6f00d461d50603e081a0948f8bed18d"
 },
 "nbformat": 3,
 "nbformat_minor": 0,
 "worksheets": [
  {
   "cells": [
    {
     "cell_type": "code",
     "collapsed": false,
     "input": [
      "%matplotlib inline"
     ],
     "language": "python",
     "metadata": {},
     "outputs": []
    },
    {
     "cell_type": "markdown",
     "metadata": {},
     "source": [
      "<div class=\"document\" id=\"marching-cubes\">\n",
      "<h1 class=\"title\">Marching Cubes</h1>\n",
      "<p>Marching cubes is an algorithm to extract a 2D surface mesh from a 3D volume.\n",
      "This can be conceptualized as a 3D generalization of isolines on topographical\n",
      "or weather maps. It works by iterating across the volume, looking for regions\n",
      "which cross the level of interest. If such regions are found, triangulations\n",
      "are generated and added to an output mesh. The final result is a set of\n",
      "vertices and a set of triangular faces.</p>\n",
      "<p>The algorithm requires a data volume and an isosurface value. For example, in\n",
      "CT imaging Hounsfield units of +700 to +3000 represent bone. So, one potential\n",
      "input would be a reconstructed CT set of data and the value +700, to extract\n",
      "a mesh for regions of bone or bone-like density.</p>\n",
      "<p>This implementation also works correctly on anisotropic datasets, where the\n",
      "voxel spacing is not equal for every spatial dimension, through use of the\n",
      "<cite>spacing</cite> kwarg.</p>\n",
      "</div>\n"
     ]
    },
    {
     "cell_type": "code",
     "collapsed": false,
     "input": [
      "import numpy as np\n",
      "import matplotlib.pyplot as plt\n",
      "from mpl_toolkits.mplot3d.art3d import Poly3DCollection\n",
      "\n",
      "from skimage import measure\n",
      "from skimage.draw import ellipsoid\n",
      "\n",
      "# Generate a level set about zero of two identical ellipsoids in 3D\n",
      "ellip_base = ellipsoid(6, 10, 16, levelset=True)\n",
      "\n",
      "print ellip_base\n",
      "\n",
      "ellip_double = np.concatenate((ellip_base[:-1, ...],\n",
      "                               ellip_base[2:, ...]), axis=0)\n",
      "\n",
      "\n",
      "\n",
      "# Use marching cubes to obtain the surface mesh of these ellipsoids\n",
      "verts, faces = measure.marching_cubes(ellip_base, 0)\n",
      "\n",
      "# Display resulting triangular mesh using Matplotlib. This can also be done\n",
      "# with mayavi (see skimage.measure.marching_cubes docstring).\n",
      "fig = plt.figure(figsize=(10, 12))\n",
      "ax = fig.add_subplot(111, projection='3d')\n",
      "\n",
      "# Fancy indexing: `verts[faces]` to generate a collection of triangles\n",
      "mesh = Poly3DCollection(verts[faces])\n",
      "ax.add_collection3d(mesh)\n",
      "\n",
      "ax.set_xlabel(\"x-axis: a = 6 per ellipsoid\")\n",
      "ax.set_ylabel(\"y-axis: b = 10\")\n",
      "ax.set_zlabel(\"z-axis: c = 16\")\n",
      "\n",
      "ax.set_xlim(0, 24)  # a = 6 (times two for 2nd ellipsoid)\n",
      "ax.set_ylim(0, 20)  # b = 10\n",
      "ax.set_zlim(0, 32)  # c = 16\n",
      "\n",
      "plt.show()\n"
     ],
     "language": "python",
     "metadata": {},
     "outputs": [],
     "prompt_number": 2
    },
    {
     "cell_type": "code",
     "collapsed": false,
     "input": [],
     "language": "python",
     "metadata": {},
     "outputs": []
    }
   ],
   "metadata": {}
  }
 ]
}