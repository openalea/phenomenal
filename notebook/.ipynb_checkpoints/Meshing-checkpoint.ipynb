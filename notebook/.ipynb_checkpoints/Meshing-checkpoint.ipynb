{
 "metadata": {
  "name": "",
  "signature": "sha256:22b2cc53e0d5e443f46e5c8905cda71970e623ef1ca289e70ef1e2e30e5c1564"
 },
 "nbformat": 3,
 "nbformat_minor": 0,
 "worksheets": [
  {
   "cells": [
    {
     "cell_type": "heading",
     "level": 1,
     "metadata": {},
     "source": [
      "Meshing"
     ]
    },
    {
     "cell_type": "heading",
     "level": 2,
     "metadata": {},
     "source": [
      "1. Prerequisites"
     ]
    },
    {
     "cell_type": "heading",
     "level": 3,
     "metadata": {},
     "source": [
      "1.1 3D Points cloud"
     ]
    },
    {
     "cell_type": "code",
     "collapsed": false,
     "input": [
      "import alinea.phenomenal.data_load\n",
      "import alinea.phenomenal.misc\n",
      "\n",
      "radius = 2\n",
      "\n",
      "points_3d_path = alinea.phenomenal.data_load.test_plant_1_points_3d_path(\n",
      "    radius=radius)\n",
      "\n",
      "points_3d = alinea.phenomenal.misc.read_xyz(points_3d_path)"
     ],
     "language": "python",
     "metadata": {},
     "outputs": [],
     "prompt_number": 1
    },
    {
     "cell_type": "heading",
     "level": 2,
     "metadata": {},
     "source": [
      "2. Meshing"
     ]
    },
    {
     "cell_type": "heading",
     "level": 3,
     "metadata": {},
     "source": [
      "2.1 Transform 3D points cloud to matrix"
     ]
    },
    {
     "cell_type": "code",
     "collapsed": false,
     "input": [
      "import alinea.phenomenal.data_transformation\n",
      "\n",
      "matrix, index, origin = alinea.phenomenal.data_transformation.points_3d_to_matrix(points_3d, radius)"
     ],
     "language": "python",
     "metadata": {},
     "outputs": [],
     "prompt_number": 2
    },
    {
     "cell_type": "heading",
     "level": 3,
     "metadata": {},
     "source": [
      "2.2 Do meshing"
     ]
    },
    {
     "cell_type": "code",
     "collapsed": false,
     "input": [
      "import alinea.phenomenal.mesh\n",
      "\n",
      "vertices, faces = alinea.phenomenal.mesh.meshing(matrix, origin, radius)"
     ],
     "language": "python",
     "metadata": {},
     "outputs": [],
     "prompt_number": 3
    },
    {
     "cell_type": "heading",
     "level": 3,
     "metadata": {},
     "source": [
      "2.3 Read & write"
     ]
    },
    {
     "cell_type": "code",
     "collapsed": false,
     "input": [
      "# Write\n",
      "alinea.phenomenal.misc.write_mesh(vertices, faces, 'mesh')\n",
      "\n",
      "# Read\n",
      "vertices, faces = alinea.phenomenal.misc.read_mesh('mesh')"
     ],
     "language": "python",
     "metadata": {},
     "outputs": [],
     "prompt_number": 4
    },
    {
     "cell_type": "heading",
     "level": 3,
     "metadata": {},
     "source": [
      "2.4 Viewing"
     ]
    },
    {
     "cell_type": "code",
     "collapsed": false,
     "input": [
      "import alinea.phenomenal.viewer\n",
      "\n",
      "alinea.phenomenal.viewer.show_mesh(vertices, faces)"
     ],
     "language": "python",
     "metadata": {},
     "outputs": [
      {
       "output_type": "stream",
       "stream": "stderr",
       "text": [
        "WARNING:traits.has_traits:DEPRECATED: traits.has_traits.wrapped_class, 'the 'implements' class advisor has been deprecated. Use the 'provides' class decorator.\n"
       ]
      }
     ],
     "prompt_number": 5
    },
    {
     "cell_type": "heading",
     "level": 3,
     "metadata": {},
     "source": [
      "2.5 More"
     ]
    },
    {
     "cell_type": "heading",
     "level": 4,
     "metadata": {},
     "source": [
      "2.5.1 Normals & Face center"
     ]
    },
    {
     "cell_type": "code",
     "collapsed": false,
     "input": [
      "normals = alinea.phenomenal.mesh.compute_normal(vertices, faces)\n",
      "centers = alinea.phenomenal.mesh.center_of_vertices(vertices, faces)"
     ],
     "language": "python",
     "metadata": {},
     "outputs": [],
     "prompt_number": 6
    },
    {
     "cell_type": "heading",
     "level": 5,
     "metadata": {},
     "source": [
      "2.5.1.1 Viewing"
     ]
    },
    {
     "cell_type": "code",
     "collapsed": false,
     "input": [
      "alinea.phenomenal.viewer.show_mesh(vertices, faces, normals=normals, centers=centers)"
     ],
     "language": "python",
     "metadata": {},
     "outputs": [],
     "prompt_number": 8
    },
    {
     "cell_type": "heading",
     "level": 4,
     "metadata": {},
     "source": [
      "2.5.2 Surface area estimation"
     ]
    },
    {
     "cell_type": "code",
     "collapsed": false,
     "input": [
      "import skimage.measure\n",
      "\n",
      "surface = skimage.measure.mesh_surface_area(vertices, faces)\n",
      "\n",
      "print surface"
     ],
     "language": "python",
     "metadata": {},
     "outputs": [
      {
       "output_type": "stream",
       "stream": "stdout",
       "text": [
        "1332509.26508\n"
       ]
      }
     ],
     "prompt_number": 10
    },
    {
     "cell_type": "heading",
     "level": 4,
     "metadata": {},
     "source": [
      "2.5.3 PlantGL Format"
     ]
    },
    {
     "cell_type": "heading",
     "level": 5,
     "metadata": {},
     "source": [
      "2.5.3.1 Code"
     ]
    },
    {
     "cell_type": "code",
     "collapsed": false,
     "input": [
      "import openalea.plantgl.scenegraph as sg\n",
      "\n",
      "scene = sg.Scene()\n",
      "tset = sg.FaceSet(pointList=vertices, indexList=faces)\n",
      "scene += tset"
     ],
     "language": "python",
     "metadata": {},
     "outputs": [],
     "prompt_number": 12
    },
    {
     "cell_type": "heading",
     "level": 5,
     "metadata": {},
     "source": [
      "2.5.3.2 Viewing"
     ]
    },
    {
     "cell_type": "code",
     "collapsed": false,
     "input": [
      "import openalea.plantgl.all as pgl\n",
      "from PyQt4 import QtCore, QtGui\n",
      "qapp = QtGui.QApplication([])\n",
      "\n",
      "pgl.Viewer.display(scene)"
     ],
     "language": "python",
     "metadata": {},
     "outputs": [],
     "prompt_number": 13
    },
    {
     "cell_type": "code",
     "collapsed": false,
     "input": [],
     "language": "python",
     "metadata": {},
     "outputs": []
    }
   ],
   "metadata": {}
  }
 ]
}